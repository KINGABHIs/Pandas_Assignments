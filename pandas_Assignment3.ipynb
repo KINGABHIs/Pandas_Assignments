{
 "cells": [
  {
   "cell_type": "code",
   "execution_count": 1,
   "id": "05c099c1-796f-4a48-a8a0-ad53395734ab",
   "metadata": {},
   "outputs": [
    {
     "data": {
      "text/html": [
       "<div>\n",
       "<style scoped>\n",
       "    .dataframe tbody tr th:only-of-type {\n",
       "        vertical-align: middle;\n",
       "    }\n",
       "\n",
       "    .dataframe tbody tr th {\n",
       "        vertical-align: top;\n",
       "    }\n",
       "\n",
       "    .dataframe thead th {\n",
       "        text-align: right;\n",
       "    }\n",
       "</style>\n",
       "<table border=\"1\" class=\"dataframe\">\n",
       "  <thead>\n",
       "    <tr style=\"text-align: right;\">\n",
       "      <th></th>\n",
       "      <th>Course_name</th>\n",
       "      <th>Duration</th>\n",
       "    </tr>\n",
       "  </thead>\n",
       "  <tbody>\n",
       "    <tr>\n",
       "      <th>0</th>\n",
       "      <td>Data Science</td>\n",
       "      <td>2</td>\n",
       "    </tr>\n",
       "    <tr>\n",
       "      <th>1</th>\n",
       "      <td>Machine Learning</td>\n",
       "      <td>3</td>\n",
       "    </tr>\n",
       "    <tr>\n",
       "      <th>2</th>\n",
       "      <td>Big Data</td>\n",
       "      <td>6</td>\n",
       "    </tr>\n",
       "    <tr>\n",
       "      <th>3</th>\n",
       "      <td>Data Engineer</td>\n",
       "      <td>4</td>\n",
       "    </tr>\n",
       "  </tbody>\n",
       "</table>\n",
       "</div>"
      ],
      "text/plain": [
       "        Course_name  Duration\n",
       "0      Data Science         2\n",
       "1  Machine Learning         3\n",
       "2          Big Data         6\n",
       "3     Data Engineer         4"
      ]
     },
     "execution_count": 1,
     "metadata": {},
     "output_type": "execute_result"
    }
   ],
   "source": [
    "# Consider following code to answer further questions.\n",
    "\n"
   ]
  },
  {
   "cell_type": "raw",
   "id": "214c03bf-d442-4869-b1fc-a7aced47110d",
   "metadata": {},
   "source": [
    "Q1. Write a code to print the data present in the second row of the dataframe, df."
   ]
  },
  {
   "cell_type": "code",
   "execution_count": 13,
   "id": "66c39b09-e114-4aec-9218-e7841626bf15",
   "metadata": {},
   "outputs": [
    {
     "data": {
      "text/html": [
       "<div>\n",
       "<style scoped>\n",
       "    .dataframe tbody tr th:only-of-type {\n",
       "        vertical-align: middle;\n",
       "    }\n",
       "\n",
       "    .dataframe tbody tr th {\n",
       "        vertical-align: top;\n",
       "    }\n",
       "\n",
       "    .dataframe thead th {\n",
       "        text-align: right;\n",
       "    }\n",
       "</style>\n",
       "<table border=\"1\" class=\"dataframe\">\n",
       "  <thead>\n",
       "    <tr style=\"text-align: right;\">\n",
       "      <th></th>\n",
       "      <th>Course_name</th>\n",
       "      <th>Duration</th>\n",
       "    </tr>\n",
       "  </thead>\n",
       "  <tbody>\n",
       "    <tr>\n",
       "      <th>1</th>\n",
       "      <td>Machine Learning</td>\n",
       "      <td>3</td>\n",
       "    </tr>\n",
       "  </tbody>\n",
       "</table>\n",
       "</div>"
      ],
      "text/plain": [
       "        Course_name  Duration\n",
       "1  Machine Learning         3"
      ]
     },
     "execution_count": 13,
     "metadata": {},
     "output_type": "execute_result"
    }
   ],
   "source": [
    "df1 = df.loc[1:1,['Course_name','Duration']]\n",
    "df1"
   ]
  },
  {
   "cell_type": "code",
   "execution_count": 15,
   "id": "4b940ab7-5abf-437a-96b4-da6da65711e1",
   "metadata": {},
   "outputs": [
    {
     "data": {
      "text/plain": [
       "Course_name    Machine Learning\n",
       "Duration                      3\n",
       "Name: 1, dtype: object"
      ]
     },
     "execution_count": 15,
     "metadata": {},
     "output_type": "execute_result"
    }
   ],
   "source": [
    "second_row = df.iloc[1]\n",
    "second_row"
   ]
  },
  {
   "cell_type": "raw",
   "id": "657d998d-7b13-4e7a-b7eb-7129f9a72ef4",
   "metadata": {},
   "source": [
    "Q2. What is the difference between the functions loc and iloc in pandas.DataFrame?"
   ]
  },
  {
   "cell_type": "raw",
   "id": "83a0cb9e-cb4b-468c-91e0-f393d7347d2c",
   "metadata": {},
   "source": [
    "In pandas, both loc and iloc are used to access rows and columns in DataFrame , but they differ in how select data:\n",
    "1. loc : Labal-based indexing\n",
    "    -Used to select data by label or a conditional statement.\n",
    "    -includes the end of a slice.\n",
    "    -syntax : df.loc[row_labels, column_labels]\n",
    "    -Include end of the range.\n",
    "    -labels and conditions for data representation\n",
    "2. iloc : Integer-based indexing\n",
    "    -uded to select data by interger position.\n",
    "    -Excludes the end of a slice(like python slicing).\n",
    "    -syntax : df.iloc[row_indices, colunm_indices]\n",
    "    -Excludes end of range\n",
    "    -only Integer positions are taken to data representation."
   ]
  },
  {
   "cell_type": "code",
   "execution_count": 21,
   "id": "7e2902cc-f52a-4fef-88fe-3408b8052663",
   "metadata": {},
   "outputs": [
    {
     "data": {
      "text/plain": [
       "Course_name    Machine Learning\n",
       "Duration                      3\n",
       "Name: 1, dtype: object"
      ]
     },
     "execution_count": 21,
     "metadata": {},
     "output_type": "execute_result"
    }
   ],
   "source": [
    "# example for loc:\n",
    "df.loc[1]"
   ]
  },
  {
   "cell_type": "code",
   "execution_count": 23,
   "id": "473dfa52-535a-4ac1-83cb-aef0809ca13f",
   "metadata": {},
   "outputs": [
    {
     "data": {
      "text/plain": [
       "'Machine Learning'"
      ]
     },
     "execution_count": 23,
     "metadata": {},
     "output_type": "execute_result"
    }
   ],
   "source": [
    "df.loc[1,'Course_name']"
   ]
  },
  {
   "cell_type": "code",
   "execution_count": 25,
   "id": "2fb8ceec-b33b-4329-bd30-3c51a99ae345",
   "metadata": {},
   "outputs": [
    {
     "data": {
      "text/html": [
       "<div>\n",
       "<style scoped>\n",
       "    .dataframe tbody tr th:only-of-type {\n",
       "        vertical-align: middle;\n",
       "    }\n",
       "\n",
       "    .dataframe tbody tr th {\n",
       "        vertical-align: top;\n",
       "    }\n",
       "\n",
       "    .dataframe thead th {\n",
       "        text-align: right;\n",
       "    }\n",
       "</style>\n",
       "<table border=\"1\" class=\"dataframe\">\n",
       "  <thead>\n",
       "    <tr style=\"text-align: right;\">\n",
       "      <th></th>\n",
       "      <th>Course_name</th>\n",
       "      <th>Duration</th>\n",
       "    </tr>\n",
       "  </thead>\n",
       "  <tbody>\n",
       "    <tr>\n",
       "      <th>2</th>\n",
       "      <td>Big Data</td>\n",
       "      <td>6</td>\n",
       "    </tr>\n",
       "    <tr>\n",
       "      <th>3</th>\n",
       "      <td>Data Engineer</td>\n",
       "      <td>4</td>\n",
       "    </tr>\n",
       "  </tbody>\n",
       "</table>\n",
       "</div>"
      ],
      "text/plain": [
       "     Course_name  Duration\n",
       "2       Big Data         6\n",
       "3  Data Engineer         4"
      ]
     },
     "execution_count": 25,
     "metadata": {},
     "output_type": "execute_result"
    }
   ],
   "source": [
    "df.loc[df['Duration']>3]"
   ]
  },
  {
   "cell_type": "code",
   "execution_count": 27,
   "id": "e897969b-7cb2-4ba7-b99f-a889a29c3abf",
   "metadata": {},
   "outputs": [
    {
     "data": {
      "text/plain": [
       "Course_name    Machine Learning\n",
       "Duration                      3\n",
       "Name: 1, dtype: object"
      ]
     },
     "execution_count": 27,
     "metadata": {},
     "output_type": "execute_result"
    }
   ],
   "source": [
    "#example for iloc:\n",
    "df.iloc[1]"
   ]
  },
  {
   "cell_type": "code",
   "execution_count": 29,
   "id": "7870f2e4-18dd-4ce2-a8ec-921f3a9bb781",
   "metadata": {},
   "outputs": [
    {
     "data": {
      "text/plain": [
       "'Machine Learning'"
      ]
     },
     "execution_count": 29,
     "metadata": {},
     "output_type": "execute_result"
    }
   ],
   "source": [
    "df.iloc[1,0]"
   ]
  },
  {
   "cell_type": "code",
   "execution_count": 31,
   "id": "147d2f6f-2de4-4760-b494-fe3317ac8f7e",
   "metadata": {},
   "outputs": [
    {
     "data": {
      "text/html": [
       "<div>\n",
       "<style scoped>\n",
       "    .dataframe tbody tr th:only-of-type {\n",
       "        vertical-align: middle;\n",
       "    }\n",
       "\n",
       "    .dataframe tbody tr th {\n",
       "        vertical-align: top;\n",
       "    }\n",
       "\n",
       "    .dataframe thead th {\n",
       "        text-align: right;\n",
       "    }\n",
       "</style>\n",
       "<table border=\"1\" class=\"dataframe\">\n",
       "  <thead>\n",
       "    <tr style=\"text-align: right;\">\n",
       "      <th></th>\n",
       "      <th>Course_name</th>\n",
       "      <th>Duration</th>\n",
       "    </tr>\n",
       "  </thead>\n",
       "  <tbody>\n",
       "    <tr>\n",
       "      <th>1</th>\n",
       "      <td>Machine Learning</td>\n",
       "      <td>3</td>\n",
       "    </tr>\n",
       "    <tr>\n",
       "      <th>2</th>\n",
       "      <td>Big Data</td>\n",
       "      <td>6</td>\n",
       "    </tr>\n",
       "  </tbody>\n",
       "</table>\n",
       "</div>"
      ],
      "text/plain": [
       "        Course_name  Duration\n",
       "1  Machine Learning         3\n",
       "2          Big Data         6"
      ]
     },
     "execution_count": 31,
     "metadata": {},
     "output_type": "execute_result"
    }
   ],
   "source": [
    "df.iloc[1:3,0:2]"
   ]
  },
  {
   "cell_type": "raw",
   "id": "60c80678-a89c-48b6-b585-41a889ea8135",
   "metadata": {},
   "source": [
    "Q3 Reindex the given dataFrame using a variable, reindex = [3,0,1,2] and store it in the variable, new_df then find the output for both new_ df.loc[2] and new _df.iloc[2].\n",
    "Dis you observe any difference in both the outputs? if so then explain it."
   ]
  },
  {
   "cell_type": "code",
   "execution_count": 33,
   "id": "f23f47f4-a8f9-4e59-8617-751cb0e9614f",
   "metadata": {},
   "outputs": [
    {
     "data": {
      "text/html": [
       "<div>\n",
       "<style scoped>\n",
       "    .dataframe tbody tr th:only-of-type {\n",
       "        vertical-align: middle;\n",
       "    }\n",
       "\n",
       "    .dataframe tbody tr th {\n",
       "        vertical-align: top;\n",
       "    }\n",
       "\n",
       "    .dataframe thead th {\n",
       "        text-align: right;\n",
       "    }\n",
       "</style>\n",
       "<table border=\"1\" class=\"dataframe\">\n",
       "  <thead>\n",
       "    <tr style=\"text-align: right;\">\n",
       "      <th></th>\n",
       "      <th>Course_name</th>\n",
       "      <th>Duration</th>\n",
       "    </tr>\n",
       "  </thead>\n",
       "  <tbody>\n",
       "    <tr>\n",
       "      <th>0</th>\n",
       "      <td>Data Science</td>\n",
       "      <td>2</td>\n",
       "    </tr>\n",
       "    <tr>\n",
       "      <th>1</th>\n",
       "      <td>Machine Learning</td>\n",
       "      <td>3</td>\n",
       "    </tr>\n",
       "    <tr>\n",
       "      <th>2</th>\n",
       "      <td>Big Data</td>\n",
       "      <td>6</td>\n",
       "    </tr>\n",
       "    <tr>\n",
       "      <th>3</th>\n",
       "      <td>Data Engineer</td>\n",
       "      <td>4</td>\n",
       "    </tr>\n",
       "  </tbody>\n",
       "</table>\n",
       "</div>"
      ],
      "text/plain": [
       "        Course_name  Duration\n",
       "0      Data Science         2\n",
       "1  Machine Learning         3\n",
       "2          Big Data         6\n",
       "3     Data Engineer         4"
      ]
     },
     "execution_count": 33,
     "metadata": {},
     "output_type": "execute_result"
    }
   ],
   "source": [
    "df\n"
   ]
  },
  {
   "cell_type": "code",
   "execution_count": 35,
   "id": "ef5f7d14-30ca-4609-acf8-2f32ac75e2a3",
   "metadata": {},
   "outputs": [
    {
     "data": {
      "text/html": [
       "<div>\n",
       "<style scoped>\n",
       "    .dataframe tbody tr th:only-of-type {\n",
       "        vertical-align: middle;\n",
       "    }\n",
       "\n",
       "    .dataframe tbody tr th {\n",
       "        vertical-align: top;\n",
       "    }\n",
       "\n",
       "    .dataframe thead th {\n",
       "        text-align: right;\n",
       "    }\n",
       "</style>\n",
       "<table border=\"1\" class=\"dataframe\">\n",
       "  <thead>\n",
       "    <tr style=\"text-align: right;\">\n",
       "      <th></th>\n",
       "      <th>Course_name</th>\n",
       "      <th>Duration</th>\n",
       "    </tr>\n",
       "  </thead>\n",
       "  <tbody>\n",
       "    <tr>\n",
       "      <th>3</th>\n",
       "      <td>Data Engineer</td>\n",
       "      <td>4</td>\n",
       "    </tr>\n",
       "    <tr>\n",
       "      <th>0</th>\n",
       "      <td>Data Science</td>\n",
       "      <td>2</td>\n",
       "    </tr>\n",
       "    <tr>\n",
       "      <th>1</th>\n",
       "      <td>Machine Learning</td>\n",
       "      <td>3</td>\n",
       "    </tr>\n",
       "    <tr>\n",
       "      <th>2</th>\n",
       "      <td>Big Data</td>\n",
       "      <td>6</td>\n",
       "    </tr>\n",
       "  </tbody>\n",
       "</table>\n",
       "</div>"
      ],
      "text/plain": [
       "        Course_name  Duration\n",
       "3     Data Engineer         4\n",
       "0      Data Science         2\n",
       "1  Machine Learning         3\n",
       "2          Big Data         6"
      ]
     },
     "execution_count": 35,
     "metadata": {},
     "output_type": "execute_result"
    }
   ],
   "source": [
    "reindex = [3,0,1,2]\n",
    "new_df = df.reindex(reindex)\n",
    "new_df"
   ]
  },
  {
   "cell_type": "code",
   "execution_count": 41,
   "id": "88560001-76e6-4bf7-a62c-7a6b74570482",
   "metadata": {},
   "outputs": [
    {
     "name": "stdout",
     "output_type": "stream",
     "text": [
      "Loc: Course_name    Big Data\n",
      "Duration              6\n",
      "Name: 2, dtype: object\n",
      "Iloc: Course_name    Machine Learning\n",
      "Duration                      3\n",
      "Name: 1, dtype: object\n"
     ]
    }
   ],
   "source": [
    "output_loc = new_df.loc[2]\n",
    "output_iloc = new_df.iloc[2]\n",
    "print('Loc:',output_loc)\n",
    "print('Iloc:',output_iloc)"
   ]
  },
  {
   "cell_type": "raw",
   "id": "af213715-f3a6-4459-9e68-1b8b8a6d11d3",
   "metadata": {},
   "source": [
    "new_df.loc[2]:\n",
    "\n",
    "Accesses the row with label 2 in the reindexed DataFrame.\n",
    "In this case, since the reindexing used [3, 0, 1, 2], the row with label 2 corresponds to the original DataFrame's last row ('Big Data', 6).\n",
    "\n",
    "new_df.iloc[2]:\n",
    "\n",
    "Accesses the third row (index 2) by position in the reindexed DataFrame.\n",
    "After reindexing, the third row in the new order corresponds to label 1, which represents the original DataFrame's second row ('Machine Learning', 3).\n",
    "\n",
    "Observed Difference:\n",
    "    -The outputs differ because loc refers to labels while iloc refers to positions.\n",
    "    -Reindexing changes the order of labels, which impacts loc, but it doesn’t affect the positional indexing used by iloc."
   ]
  },
  {
   "cell_type": "code",
   "execution_count": 63,
   "id": "f7cfa981-4b40-405f-892d-de3d3e353eee",
   "metadata": {},
   "outputs": [],
   "source": [
    "import pandas as pd \n",
    "import numpy as np \n",
    "columns = ['column_1','column_2', 'column_3','column_4','column_5','column_6']\n",
    "indices = [1,2,3,4,5,6]\n",
    "\n",
    "# creating a dataframe:\n",
    "df1 = pd.DataFrame(np.random.rand(6,6),columns = columns, index = indices)"
   ]
  },
  {
   "cell_type": "raw",
   "id": "973b9448-26c3-4da3-b3b9-0c1ac14c3b60",
   "metadata": {},
   "source": [
    "Q4. Write a code to find the following statistical measurements for the above dataframe df1:\n",
    "(i) mean of each and every column present in the dataframe.\n",
    "(ii) standard deviation of column, ‘column_2’"
   ]
  },
  {
   "cell_type": "code",
   "execution_count": 65,
   "id": "9e854784-7023-4d06-bb37-c69d84ca3aa0",
   "metadata": {},
   "outputs": [
    {
     "data": {
      "text/html": [
       "<div>\n",
       "<style scoped>\n",
       "    .dataframe tbody tr th:only-of-type {\n",
       "        vertical-align: middle;\n",
       "    }\n",
       "\n",
       "    .dataframe tbody tr th {\n",
       "        vertical-align: top;\n",
       "    }\n",
       "\n",
       "    .dataframe thead th {\n",
       "        text-align: right;\n",
       "    }\n",
       "</style>\n",
       "<table border=\"1\" class=\"dataframe\">\n",
       "  <thead>\n",
       "    <tr style=\"text-align: right;\">\n",
       "      <th></th>\n",
       "      <th>column_1</th>\n",
       "      <th>column_2</th>\n",
       "      <th>column_3</th>\n",
       "      <th>column_4</th>\n",
       "      <th>column_5</th>\n",
       "      <th>column_6</th>\n",
       "    </tr>\n",
       "  </thead>\n",
       "  <tbody>\n",
       "    <tr>\n",
       "      <th>1</th>\n",
       "      <td>0.037986</td>\n",
       "      <td>0.809284</td>\n",
       "      <td>0.348877</td>\n",
       "      <td>0.327956</td>\n",
       "      <td>0.036657</td>\n",
       "      <td>0.335889</td>\n",
       "    </tr>\n",
       "    <tr>\n",
       "      <th>2</th>\n",
       "      <td>0.941947</td>\n",
       "      <td>0.596615</td>\n",
       "      <td>0.102573</td>\n",
       "      <td>0.945213</td>\n",
       "      <td>0.845014</td>\n",
       "      <td>0.879390</td>\n",
       "    </tr>\n",
       "    <tr>\n",
       "      <th>3</th>\n",
       "      <td>0.496969</td>\n",
       "      <td>0.011016</td>\n",
       "      <td>0.138707</td>\n",
       "      <td>0.934155</td>\n",
       "      <td>0.172606</td>\n",
       "      <td>0.987243</td>\n",
       "    </tr>\n",
       "    <tr>\n",
       "      <th>4</th>\n",
       "      <td>0.370241</td>\n",
       "      <td>0.638484</td>\n",
       "      <td>0.956792</td>\n",
       "      <td>0.317823</td>\n",
       "      <td>0.393580</td>\n",
       "      <td>0.418123</td>\n",
       "    </tr>\n",
       "    <tr>\n",
       "      <th>5</th>\n",
       "      <td>0.857621</td>\n",
       "      <td>0.582016</td>\n",
       "      <td>0.704521</td>\n",
       "      <td>0.680582</td>\n",
       "      <td>0.122858</td>\n",
       "      <td>0.873211</td>\n",
       "    </tr>\n",
       "    <tr>\n",
       "      <th>6</th>\n",
       "      <td>0.887776</td>\n",
       "      <td>0.162824</td>\n",
       "      <td>0.834338</td>\n",
       "      <td>0.142061</td>\n",
       "      <td>0.712060</td>\n",
       "      <td>0.894782</td>\n",
       "    </tr>\n",
       "  </tbody>\n",
       "</table>\n",
       "</div>"
      ],
      "text/plain": [
       "   column_1  column_2  column_3  column_4  column_5  column_6\n",
       "1  0.037986  0.809284  0.348877  0.327956  0.036657  0.335889\n",
       "2  0.941947  0.596615  0.102573  0.945213  0.845014  0.879390\n",
       "3  0.496969  0.011016  0.138707  0.934155  0.172606  0.987243\n",
       "4  0.370241  0.638484  0.956792  0.317823  0.393580  0.418123\n",
       "5  0.857621  0.582016  0.704521  0.680582  0.122858  0.873211\n",
       "6  0.887776  0.162824  0.834338  0.142061  0.712060  0.894782"
      ]
     },
     "execution_count": 65,
     "metadata": {},
     "output_type": "execute_result"
    }
   ],
   "source": [
    "df1"
   ]
  },
  {
   "cell_type": "code",
   "execution_count": 67,
   "id": "762d709f-00e3-48be-a953-7ecd74e10edb",
   "metadata": {},
   "outputs": [
    {
     "data": {
      "text/plain": [
       "column_1    0.598757\n",
       "column_2    0.466706\n",
       "column_3    0.514301\n",
       "column_4    0.557965\n",
       "column_5    0.380463\n",
       "column_6    0.731440\n",
       "dtype: float64"
      ]
     },
     "execution_count": 67,
     "metadata": {},
     "output_type": "execute_result"
    }
   ],
   "source": [
    "Mean = df1.mean()\n",
    "Mean"
   ]
  },
  {
   "cell_type": "code",
   "execution_count": 69,
   "id": "268bc28f-dc4e-48d1-9f68-c933faf8f4ae",
   "metadata": {},
   "outputs": [
    {
     "data": {
      "text/plain": [
       "column_1    0.359268\n",
       "column_2    0.308881\n",
       "column_3    0.366704\n",
       "column_4    0.343530\n",
       "column_5    0.332777\n",
       "column_6    0.278830\n",
       "dtype: float64"
      ]
     },
     "execution_count": 69,
     "metadata": {},
     "output_type": "execute_result"
    }
   ],
   "source": [
    "Std = df1.std()\n",
    "Std"
   ]
  },
  {
   "cell_type": "code",
   "execution_count": 71,
   "id": "f19f8b79-23d6-4f3f-8f2d-1212ae93429d",
   "metadata": {},
   "outputs": [
    {
     "data": {
      "text/plain": [
       "0.30888121181328404"
      ]
     },
     "execution_count": 71,
     "metadata": {},
     "output_type": "execute_result"
    }
   ],
   "source": [
    "Std_col2= df1['column_2'].std()\n",
    "Std_col2"
   ]
  },
  {
   "cell_type": "raw",
   "id": "32e6fb88-8a52-42c9-bdae-d073228f7d8d",
   "metadata": {},
   "source": [
    "Q5. Replace the data present in the second row of column, ‘column_2’ by a string variable then find the\n",
    "mean of column, column_2.\n",
    "If you are getting errors in executing it then explain why.\n",
    "[Hint: To replace the data use df1.loc[] and equate this to string data of your choice.]"
   ]
  },
  {
   "cell_type": "code",
   "execution_count": 77,
   "id": "6b1e0048-2bc3-47f3-aaf6-00a0f0069382",
   "metadata": {},
   "outputs": [
    {
     "ename": "SyntaxError",
     "evalue": "unterminated string literal (detected at line 1) (3732744942.py, line 1)",
     "output_type": "error",
     "traceback": [
      "\u001b[1;36m  Cell \u001b[1;32mIn[77], line 1\u001b[1;36m\u001b[0m\n\u001b[1;33m    df1.loc[2, 'column_2] = \"pwskills is the best platform for online study.\"\u001b[0m\n\u001b[1;37m               ^\u001b[0m\n\u001b[1;31mSyntaxError\u001b[0m\u001b[1;31m:\u001b[0m unterminated string literal (detected at line 1)\n"
     ]
    }
   ],
   "source": [
    "df1.loc[2, 'column_2] = \"pwskills is the best platform for online study.\""
   ]
  },
  {
   "cell_type": "raw",
   "id": "074b8110-d4c6-4b06-8171-1b7e1a8a9777",
   "metadata": {},
   "source": [
    "try:\n",
    "    Mean = df1['column_2'].mean()\n",
    "    print(Mean)\n",
    "except Exception as e:\n",
    "    print('error occurred:',e)"
   ]
  },
  {
   "cell_type": "raw",
   "id": "deeb98b8-3d66-4349-9000-9de5db33256b",
   "metadata": {},
   "source": [
    "What happens when a string is inserted?\n",
    "\n",
    "The column 'cloumn_2' initially contains numeric data (float values).\n",
    "Replacing one value in the column with a string changes the data type of the entire column to object (mixed types), as pandas enforces homogeneous column types."
   ]
  },
  {
   "cell_type": "raw",
   "id": "1cca5fd8-1c04-4ddc-a4a7-1d92adb53e32",
   "metadata": {},
   "source": [
    "Q6. What do you understand about the windows function in pandas and list the types of windows\n",
    "functions?"
   ]
  },
  {
   "cell_type": "raw",
   "id": "e8056435-c2b0-4233-bbf6-8c319eb0648c",
   "metadata": {},
   "source": [
    "Windows Functions in Pandas \n",
    "In pandas, window functions are used to perform calculations over a sliding window of data. These are particularly useful for performing opertions like moving averages, cumulative sums, or applying custom aggregations on specific portions of a dataset.\n",
    "Window functions operate on a defined subset of rows, known as a \"window\", and provide a way to analyze trends or patterns in data while maintaining the context of the dataset.\n",
    "\n",
    "KEY CHARACTERISICS OF WINDOW FUNCTIONS \n",
    "1. Sliding Window : Operations are performed over a subset(window) of the dataset that moves incrementally.\n",
    "2. Aggregation : FuncTions like mean(), sum(), max(), etc., can be applied within the window.\n",
    "3. Flexible Size : The size of the window can be fized of dynamic.\n",
    "4. Centered of Forward : The window can be centered around a row or span forward/backward.\n",
    "\n",
    "Types of Window Functions in Pandas\n",
    "1. Rolling Window Functions(rolling)\n",
    "    -Used for calculations over a fixed-size sliding window.\n",
    "    -Example operations: moving average, rolling sum, standard deviation, etc.\n",
    "    -Syntax : df.rolling(window_size).function()\n",
    "    -Example:\n",
    "        df['rolling_mean'] = df['column_name'].rolling(window=30.mean()\n",
    "2. Expandign Window Functions(expanding)\n",
    "    -Perform calculations over an expanding window that grows with eachnew data point.\n",
    "    -Useful for cumulative operations.\n",
    "    -syntax : df.expanding().function()\n",
    "    -Example:\n",
    "        df['cumulative_mean']= df['column_name'].expanding().mean()\n",
    "3. Exponentially Weighted Window Functions(ewm)\n",
    "    - Assign exponentially decreasing weights to older data points.\n",
    "    - Useful for trend analysis and smoothing.\n",
    "    - Syntax: df.ewn(span = period).function()\n",
    "    -Example:\n",
    "        df['ewm_mean'] = df['column_name'].ewm(span = 30.mean()\n",
    "4. Groupby with Rolling/Expanding \n",
    "    -Combine groupby with rolling or expanding windows for operations on grouped data.\n",
    "    -Example: Calculate a rolling mean for each group.\n",
    "        df.grouby('group_column')['value_colunm'].rolling(window=3).mean()"
   ]
  },
  {
   "cell_type": "raw",
   "id": "adc86221-3ea0-443d-8aef-a650cb94e049",
   "metadata": {},
   "source": [
    "Q7. Write a code to print only the current month and year at the time of answering this question.\n",
    "[Hint: Use pandas.datetime function]"
   ]
  },
  {
   "cell_type": "raw",
   "id": "7eb7ace5-6090-42f0-ad47-30ce90509c1b",
   "metadata": {},
   "source": [
    "You can use the datetime module in Python to extract the current month and year. "
   ]
  },
  {
   "cell_type": "code",
   "execution_count": 81,
   "id": "a52c7b99-c3fe-41c9-baa5-8485f5c5fa00",
   "metadata": {},
   "outputs": [
    {
     "name": "stdout",
     "output_type": "stream",
     "text": [
      "Current Month: 11\n",
      "Current Year: 2024\n"
     ]
    }
   ],
   "source": [
    "import pandas as pd\n",
    "\n",
    "current_date = pd.Timestamp.now()\n",
    "\n",
    "current_month = current_date.month\n",
    "current_year = current_date.year\n",
    "\n",
    "print(f\"Current Month: {current_month}\")\n",
    "print(f\"Current Year: {current_year}\")\n"
   ]
  },
  {
   "cell_type": "raw",
   "id": "e55dd2e3-5692-4b08-a5f5-39684457b459",
   "metadata": {},
   "source": [
    "Q8. Write a Python program that takes in two dates as input (in the format YYYY-MM-DD) and\n",
    "calculates the difference between them in days, hours, and minutes using Pandas time delta. The\n",
    "program should prompt the user to enter the dates and display the result."
   ]
  },
  {
   "cell_type": "code",
   "execution_count": 83,
   "id": "65cd829f-2db3-4398-b19d-850065d054df",
   "metadata": {},
   "outputs": [
    {
     "name": "stdin",
     "output_type": "stream",
     "text": [
      "Enter the first date (YYYY-MM-DD):  2024-11-25\n",
      "Enter the second date (YYYY-MM-DD):  2024-11-27\n"
     ]
    },
    {
     "name": "stdout",
     "output_type": "stream",
     "text": [
      "Difference between the two dates:\n",
      "2 days, 0 hours, and 0 minutes\n"
     ]
    }
   ],
   "source": [
    "import pandas as pd\n",
    "\n",
    "date1 = input(\"Enter the first date (YYYY-MM-DD): \")\n",
    "date2 = input(\"Enter the second date (YYYY-MM-DD): \")\n",
    "\n",
    "date1 = pd.Timestamp(date1)\n",
    "date2 = pd.Timestamp(date2)\n",
    "\n",
    "time_difference = abs(date2 - date1)\n",
    "\n",
    "days = time_difference.days\n",
    "hours = time_difference.seconds // 3600\n",
    "minutes = (time_difference.seconds % 3600) // 60\n",
    "\n",
    "print(f\"Difference between the two dates:\")\n",
    "print(f\"{days} days, {hours} hours, and {minutes} minutes\")\n"
   ]
  },
  {
   "cell_type": "raw",
   "id": "39149245-c5f7-45e8-a676-57f823f5755b",
   "metadata": {},
   "source": [
    "Q9. Write a Python program that reads a CSV file containing categorical data and converts a specified\n",
    "column to a categorical data type. The program should prompt the user to enter the file path, column\n",
    "name, and category order, and then display the sorted data."
   ]
  },
  {
   "cell_type": "code",
   "execution_count": 87,
   "id": "31f4c898-1243-4984-acba-ff23d6650e71",
   "metadata": {},
   "outputs": [
    {
     "name": "stdin",
     "output_type": "stream",
     "text": [
      "Enter the path to the CSV file:  https://raw.githubusercontent.com/datasciencedojo/datasets/master/titanic.csv\n",
      "Enter the name of the column to convert to categorical:  Age\n",
      "Enter the category order (comma-separated):  low, medium,high\n"
     ]
    },
    {
     "name": "stdout",
     "output_type": "stream",
     "text": [
      "\n",
      "Sorted DataFrame:\n",
      "     PassengerId  Survived  Pclass  \\\n",
      "0              1         0       3   \n",
      "1              2         1       1   \n",
      "2              3         1       3   \n",
      "3              4         1       1   \n",
      "4              5         0       3   \n",
      "..           ...       ...     ...   \n",
      "886          887         0       2   \n",
      "887          888         1       1   \n",
      "888          889         0       3   \n",
      "889          890         1       1   \n",
      "890          891         0       3   \n",
      "\n",
      "                                                  Name     Sex  Age  SibSp  \\\n",
      "0                              Braund, Mr. Owen Harris    male  NaN      1   \n",
      "1    Cumings, Mrs. John Bradley (Florence Briggs Th...  female  NaN      1   \n",
      "2                               Heikkinen, Miss. Laina  female  NaN      0   \n",
      "3         Futrelle, Mrs. Jacques Heath (Lily May Peel)  female  NaN      1   \n",
      "4                             Allen, Mr. William Henry    male  NaN      0   \n",
      "..                                                 ...     ...  ...    ...   \n",
      "886                              Montvila, Rev. Juozas    male  NaN      0   \n",
      "887                       Graham, Miss. Margaret Edith  female  NaN      0   \n",
      "888           Johnston, Miss. Catherine Helen \"Carrie\"  female  NaN      1   \n",
      "889                              Behr, Mr. Karl Howell    male  NaN      0   \n",
      "890                                Dooley, Mr. Patrick    male  NaN      0   \n",
      "\n",
      "     Parch            Ticket     Fare Cabin Embarked  \n",
      "0        0         A/5 21171   7.2500   NaN        S  \n",
      "1        0          PC 17599  71.2833   C85        C  \n",
      "2        0  STON/O2. 3101282   7.9250   NaN        S  \n",
      "3        0            113803  53.1000  C123        S  \n",
      "4        0            373450   8.0500   NaN        S  \n",
      "..     ...               ...      ...   ...      ...  \n",
      "886      0            211536  13.0000   NaN        S  \n",
      "887      0            112053  30.0000   B42        S  \n",
      "888      2        W./C. 6607  23.4500   NaN        S  \n",
      "889      0            111369  30.0000  C148        C  \n",
      "890      0            370376   7.7500   NaN        Q  \n",
      "\n",
      "[891 rows x 12 columns]\n"
     ]
    }
   ],
   "source": [
    "import pandas as pd\n",
    "\n",
    "file_path = input(\"Enter the path to the CSV file: \")\n",
    "column_name = input(\"Enter the name of the column to convert to categorical: \")\n",
    "category_order = input(\"Enter the category order (comma-separated): \").split(',')\n",
    "\n",
    "try:\n",
    "    df = pd.read_csv(file_path)\n",
    "    \n",
    "    df[column_name] = pd.Categorical(df[column_name], categories=category_order, ordered=True)\n",
    "    \n",
    "    sorted_df = df.sort_values(by=column_name)\n",
    "    \n",
    "    print(\"\\nSorted DataFrame:\")\n",
    "    print(sorted_df)\n",
    "except FileNotFoundError:\n",
    "    print(\"Error: File not found. Please check the file path and try again.\")\n",
    "except KeyError:\n",
    "    print(f\"Error: Column '{column_name}' not found in the dataset.\")\n",
    "except Exception as e:\n",
    "    print(f\"An error occurred: {e}\")\n"
   ]
  },
  {
   "cell_type": "raw",
   "id": "a12e4bbf-41cf-4564-aa54-ea111d474d77",
   "metadata": {},
   "source": [
    "Q10. Write a Python program that reads a CSV file containing sales data for different products and\n",
    "visualizes the data using a stacked bar chart to show the sales of each product category over time. The\n",
    "program should prompt the user to enter the file path and display the chart."
   ]
  },
  {
   "cell_type": "code",
   "execution_count": 89,
   "id": "c5a2584d-fe6d-44b8-b726-9ba869dae063",
   "metadata": {},
   "outputs": [
    {
     "name": "stdin",
     "output_type": "stream",
     "text": [
      "Enter the path to the CSV file:  https://raw.githubusercontent.com/datasciencedojo/datasets/master/titanic.csv\n"
     ]
    },
    {
     "name": "stdout",
     "output_type": "stream",
     "text": [
      "Error: 'The CSV file must contain the following columns: Date, Product_Category, Sales'\n"
     ]
    }
   ],
   "source": [
    "import pandas as pd\n",
    "import matplotlib.pyplot as plt\n",
    "\n",
    "# Prompt the user to input the file path\n",
    "file_path = input(\"Enter the path to the CSV file: \")\n",
    "\n",
    "try:\n",
    "    # Read the CSV file\n",
    "    df = pd.read_csv(file_path)\n",
    "    \n",
    "    # Check if required columns exist\n",
    "    required_columns = ['Date', 'Product_Category', 'Sales']\n",
    "    if not all(col in df.columns for col in required_columns):\n",
    "        raise KeyError(f\"The CSV file must contain the following columns: {', '.join(required_columns)}\")\n",
    "    \n",
    "    # Convert the 'Date' column to datetime format\n",
    "    df['Date'] = pd.to_datetime(df['Date'])\n",
    "    \n",
    "    # Group by Date and Product_Category, and sum the sales\n",
    "    sales_data = df.groupby(['Date', 'Product_Category'])['Sales'].sum().unstack(fill_value=0)\n",
    "    \n",
    "    # Plot the stacked bar chart\n",
    "    sales_data.plot(kind='bar', stacked=True, figsize=(10, 6), cmap='viridis')\n",
    "    plt.title(\"Sales of Product Categories Over Time\", fontsize=16)\n",
    "    plt.xlabel(\"Date\", fontsize=12)\n",
    "    plt.ylabel(\"Sales\", fontsize=12)\n",
    "    plt.legend(title=\"Product Categories\")\n",
    "    plt.tight_layout()\n",
    "    \n",
    "    # Display the chart\n",
    "    plt.show()\n",
    "\n",
    "except FileNotFoundError:\n",
    "    print(\"Error: File not found. Please check the file path and try again.\")\n",
    "except KeyError as e:\n",
    "    print(f\"Error: {e}\")\n",
    "except Exception as e:\n",
    "    print(f\"An error occurred: {e}\")\n"
   ]
  },
  {
   "cell_type": "raw",
   "id": "67c6d0e0-317f-4911-8fe5-2147190b81a5",
   "metadata": {},
   "source": [
    "Q11. You are given a CSV file containing student data that includes the student ID and their test score. Write\n",
    "a Python program that reads the CSV file, calculates the mean, median, and mode of the test scores, and\n",
    "displays the results in a table.\n",
    "The program should do the followingM\n",
    "I Prompt the user to enter the file path of the CSV file containing the student dataR\n",
    "I Read the CSV file into a Pandas DataFrameR\n",
    "I Calculate the mean, median, and mode of the test scores using Pandas toolsR\n",
    "I Display the mean, median, and mode in a table.\n",
    "Assume the CSV file contains the following columnsM\n",
    "I Student ID: The ID of the studentR\n",
    "I Test Score: The score of the student's test.\n",
    "Example usage of the program:\n",
    "Enter the file path of the CSV file containing the student data: student_data.csv\n",
    "+-----------+--------+\n",
    "| Statistic | Value |\n",
    "+-----------+--------+\n",
    "| Mean | 79.6 |\n",
    "| Median | 82 |\n",
    "| Mode | 85, 90 |\n",
    "+-----------+--------+\n",
    "Assume that the CSV file student_data.csv contains the following data:\n",
    "Student ID,Test Score\n",
    "1,85\n",
    "2,90\n",
    "3,80\n",
    "4,75\n",
    "5,85\n",
    "6,82\n",
    "7,78\n",
    "8,85\n",
    "9,90\n",
    "10,85\n",
    "The program should calculate the mean, median, and mode of the test scores and display the results\n",
    "in a table."
   ]
  },
  {
   "cell_type": "code",
   "execution_count": 91,
   "id": "c3367bc3-b741-4d6d-bb09-60eeab27d49b",
   "metadata": {},
   "outputs": [
    {
     "name": "stdin",
     "output_type": "stream",
     "text": [
      "Enter the file path of the CSV file containing the student data:  Masters_DS/Pandas/student_data.csv\n"
     ]
    },
    {
     "name": "stdout",
     "output_type": "stream",
     "text": [
      "Error: File not found. Please check the file path and try again.\n"
     ]
    }
   ],
   "source": [
    "import pandas as pd\n",
    "from tabulate import tabulate\n",
    "\n",
    "# Prompt the user for the file path\n",
    "file_path = input(\"Enter the file path of the CSV file containing the student data: \")\n",
    "\n",
    "try:\n",
    "    # Read the CSV file into a DataFrame\n",
    "    df = pd.read_csv(file_path)\n",
    "\n",
    "    # Check if required columns exist\n",
    "    required_columns = ['Student ID', 'Test Score']\n",
    "    if not all(col in df.columns for col in required_columns):\n",
    "        raise KeyError(f\"The CSV file must contain the following columns: {', '.join(required_columns)}\")\n",
    "\n",
    "    # Calculate statistics\n",
    "    mean_score = df['Test Score'].mean()\n",
    "    median_score = df['Test Score'].median()\n",
    "    mode_score = df['Test Score'].mode().tolist()\n",
    "\n",
    "    # Prepare the results\n",
    "    results = [\n",
    "        [\"Mean\", round(mean_score, 2)],\n",
    "        [\"Median\", median_score],\n",
    "        [\"Mode\", \", \".join(map(str, mode_score))],\n",
    "    ]\n",
    "\n",
    "    # Display the results in a table format\n",
    "    print(\"\\nStatistics of Test Scores:\")\n",
    "    print(tabulate(results, headers=[\"Statistic\", \"Value\"], tablefmt=\"grid\"))\n",
    "\n",
    "except FileNotFoundError:\n",
    "    print(\"Error: File not found. Please check the file path and try again.\")\n",
    "except KeyError as e:\n",
    "    print(f\"Error: {e}\")\n",
    "except Exception as e:\n",
    "    print(f\"An error occurred: {e}\")\n"
   ]
  },
  {
   "cell_type": "code",
   "execution_count": null,
   "id": "0c63d7f2-ffa9-4d18-a7a4-6090fe0bfdd3",
   "metadata": {},
   "outputs": [],
   "source": []
  }
 ],
 "metadata": {
  "kernelspec": {
   "display_name": "Python 3 (ipykernel)",
   "language": "python",
   "name": "python3"
  },
  "language_info": {
   "codemirror_mode": {
    "name": "ipython",
    "version": 3
   },
   "file_extension": ".py",
   "mimetype": "text/x-python",
   "name": "python",
   "nbconvert_exporter": "python",
   "pygments_lexer": "ipython3",
   "version": "3.12.4"
  }
 },
 "nbformat": 4,
 "nbformat_minor": 5
}
