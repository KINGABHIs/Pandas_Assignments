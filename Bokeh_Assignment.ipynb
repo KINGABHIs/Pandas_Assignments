{
  "nbformat": 4,
  "nbformat_minor": 0,
  "metadata": {
    "colab": {
      "provenance": []
    },
    "kernelspec": {
      "name": "python3",
      "display_name": "Python 3"
    },
    "language_info": {
      "name": "python"
    }
  },
  "cells": [
    {
      "cell_type": "markdown",
      "source": [
        "Q1. How can you create a Bokeh plot using Python code?"
      ],
      "metadata": {
        "id": "quA0Ci3i7s-H"
      }
    },
    {
      "cell_type": "markdown",
      "source": [
        "To create a Bokeh plot in python we :-\n",
        "  1. Import Required Librabies: Import necessary modules from the bokeh library, such as figure, output_file, and show.\n",
        "\n",
        "  2. Prepare Data : Use a data source, such as python lists, Numpy arrays, pandas DataFrames or any structured data.\n",
        "\n",
        "  3. Define Output: Specify the output fole using output_file() or use output_notebook() for jupyter Notebook.\n",
        "\n",
        "  4. Create a Figure: Use figure() to create a Plotting canvas with a title, axis labels, and other settings.\n",
        "\n",
        "  5. Add Glyphs: Use glyph methods like circle(),line(),bar(),etc., to plot data on the figure.\n",
        "\n",
        "  6. Customize the Plot: Modify visual arributes like colors, labels, legends, and tooltips.\n",
        "\n",
        "  7. Render the Plot: use the show() function to display the plot in the browser or notebook."
      ],
      "metadata": {
        "id": "ltQp9t9379wG"
      }
    },
    {
      "cell_type": "code",
      "execution_count": 5,
      "metadata": {
        "id": "lAKAtwfq7lCJ"
      },
      "outputs": [],
      "source": [
        "from bokeh.plotting import figure, output_file, show\n",
        "\n",
        "x = [1, 2, 3, 4, 5]\n",
        "y = [6, 7, 2, 4, 5]\n",
        "\n",
        "p = figure(title=\"Example Bokeh Plot\", x_axis_label=\"X-Axis\", y_axis_label=\"Y-Axis\")\n",
        "p.scatter(x, y, size=10, color=\"blue\", alpha=0.5)\n",
        "show(p)\n"
      ]
    },
    {
      "cell_type": "markdown",
      "source": [
        "Q2. What are glyphs in Bokeh, and how can you add them to a Bokeh plot? Explain with an example.\n"
      ],
      "metadata": {
        "id": "rhFCIrd2-1BK"
      }
    },
    {
      "cell_type": "markdown",
      "source": [
        "Glyphs in Bokeh:\n",
        "Glyphs are the basic visual building blocks in Bokeh. They represent the eshapes used to visualize data on a plot. Each glyph corresponds to a specific data rendering.\n",
        "exapmple of glyphs methods:\n",
        "1. circle() or scatter()\n",
        "2. line()\n",
        "3. rect()"
      ],
      "metadata": {
        "id": "bRG_Y3-g_P36"
      }
    },
    {
      "cell_type": "code",
      "source": [
        "from bokeh.plotting import figure, output_file, show\n",
        "\n",
        "x = [1, 2, 3, 4, 5]\n",
        "y = [6, 7, 2, 4, 5]\n",
        "\n",
        "p = figure(title=\"Example Bokeh Plot\", x_axis_label=\"X-Axis\", y_axis_label=\"Y-Axis\")\n",
        "\n",
        "p.scatter(x, y, size=10, color=\"blue\", alpha=0.5)\n",
        "\n",
        "p.line(x, y, color=\"blue\", alpha=0.5)\n",
        "\n",
        "show(p)"
      ],
      "metadata": {
        "id": "r-B2JQ41-Zu8"
      },
      "execution_count": 7,
      "outputs": []
    },
    {
      "cell_type": "markdown",
      "source": [
        "Q3. How can you customize the appearance of a Bokeh plot, including the axes, title, and legend?"
      ],
      "metadata": {
        "id": "7HeushR_Ds4n"
      }
    },
    {
      "cell_type": "markdown",
      "source": [
        "Customize the Appearance of a boket Plot:\n",
        "    Bokeh provides extensive options for customizing the visual appearance of a plot, including axes, titles, legends, and other elements.\n",
        "1. Customizing the Axes:\n",
        "\n",
        "Axis Labels: Use xaxis.axis_label and yaxis.axis_label to set labels.\n",
        "\n",
        "Axis Style: Adjust text font size, color, and alignment with attributes like\n",
        "2. ustomizing the Title\n",
        "\n",
        "Title Text: Set the title in the figure() function or use title.text.\n",
        "\n",
        "Styling: Customize title font size, color, and alignment.\n",
        "3.  Customizing the Legend\n",
        "\n",
        "Adding a Legend: Provide a legend_label parameter in glyph methods like circle() or line().\n",
        "\n",
        "Position: Use p.legend.location to position the legend.\n",
        "\n",
        "Styling: Modify font size, colors, and background.\n",
        "4. . Customizing Gridlines\n",
        "\n",
        "Visibility: Turn gridlines on or off using grid.grid_line_color.\n",
        "\n",
        "Style: Change color, line width, or dash style."
      ],
      "metadata": {
        "id": "vRHcyDmbEE7t"
      }
    },
    {
      "cell_type": "code",
      "source": [
        "from bokeh.plotting import figure, output_file, show\n",
        "\n",
        "output_file(\"customized_plot.html\")\n",
        "x = [1, 2, 3, 4, 5]\n",
        "y = [6, 7, 2, 4, 5]\n",
        "\n",
        "p = figure(title=\"Customized Plot\", x_axis_label=\"X-Axis\", y_axis_label=\"Y-Axis\")\n",
        "\n",
        "p.circle(x, y, size=10, color=\"blue\", alpha=0.6, legend_label=\"Data Points\")\n",
        "\n",
        "p.line(x, y, line_width=2, color=\"red\", legend_label=\"Trend Line\")\n",
        "\n",
        "\n",
        "p.title.text_font_size = \"18pt\"\n",
        "p.title.text_color = \"purple\"\n",
        "p.xaxis.axis_label_text_font_size = \"12pt\"\n",
        "p.yaxis.axis_label_text_font_size = \"12pt\"\n",
        "p.legend.location = \"top_left\"\n",
        "p.legend.label_text_font_size = \"10pt\"\n",
        "p.legend.background_fill_color = \"lightyellow\"\n",
        "p.xgrid.grid_line_dash = [4, 4]\n",
        "p.ygrid.grid_line_color = None\n",
        "\n",
        "show(p)\n"
      ],
      "metadata": {
        "colab": {
          "base_uri": "https://localhost:8080/"
        },
        "id": "55VQT628-khQ",
        "outputId": "c06a3f4e-6a92-4fc0-80d3-a7ab92fbddae"
      },
      "execution_count": 8,
      "outputs": [
        {
          "output_type": "stream",
          "name": "stderr",
          "text": [
            "BokehDeprecationWarning: 'circle() method with size value' was deprecated in Bokeh 3.4.0 and will be removed, use 'scatter(size=...) instead' instead.\n"
          ]
        }
      ]
    },
    {
      "cell_type": "markdown",
      "source": [
        "Q4 What is a Bokeh server, and how can you use it to create interactive plots that can be updated in\n",
        "real time?"
      ],
      "metadata": {
        "id": "NrQzYtrPEEXp"
      }
    },
    {
      "cell_type": "markdown",
      "source": [
        "The Bokeh server is a feature of the Bokeh library that enables the creation of interactive and real-time web-based visualizations. Unlike standalone plots (which are static or client-side interactive), the Bokeh server runs a Python process that allows for:\n",
        "\n",
        "Real-time updates to plots or dashboards.\n",
        "Synchronization between the Python backend and the web browser front-end.\n",
        "Handling user interactions like sliders, buttons, and dropdowns dynamically.\n",
        "\n",
        "use of bokeh:\n",
        "The Bokeh server allows you to link widgets, callbacks, and Python code to update your plots dynamically.\n",
        " 1. Install Bokeh: Ensure Bokeh is installed using:\n",
        " pip install bokeh\n",
        "\n",
        " 2. Create a Python Script: Write a Python script containing your Bokeh application logic, including data updates and interactive widgets.\n",
        "\n",
        "3. Define Layouts and Callbacks: Use Bokeh's curdoc() function to define the layout and link interactions using Python callbacks.\n",
        "\n",
        "4. Run the Bokeh Server: Execute the script with the bokeh serve command to launch the application.\n",
        "\n",
        "5. Access in a Web Browser: The Bokeh server runs locally, and you can view the app in a browser via the provided URL (e.g., http://localhost:5006)."
      ],
      "metadata": {
        "id": "9E-0lOgCG-b6"
      }
    },
    {
      "cell_type": "code",
      "source": [
        "from bokeh.io import curdoc\n",
        "from bokeh.layouts import column\n",
        "from bokeh.plotting import figure\n",
        "from bokeh.models import Slider\n",
        "from bokeh.models.sources import ColumnDataSource\n",
        "\n",
        "# Step 1: Prepare initial data\n",
        "x = [i for i in range(10)]\n",
        "y = [i**2 for i in x]\n",
        "source = ColumnDataSource(data={\"x\": x, \"y\": y})\n",
        "\n",
        "# Step 2: Create a figure\n",
        "p = figure(title=\"Interactive Bokeh Server Example\", x_axis_label=\"X\", y_axis_label=\"Y\")\n",
        "p.line(\"x\", \"y\", source=source, line_width=2)\n",
        "\n",
        "# Step 3: Add a slider\n",
        "slider = Slider(start=1, end=5, value=1, step=0.1, title=\"Multiplier\")\n",
        "\n",
        "# Step 4: Define callback\n",
        "def update(attr, old, new):\n",
        "    multiplier = slider.value\n",
        "    source.data = {\"x\": x, \"y\": [i**2 * multiplier for i in x]}\n",
        "\n",
        "slider.on_change(\"value\", update)\n",
        "\n",
        "# Step 5: Add to layout and curdoc\n",
        "layout = column(slider, p)\n",
        "curdoc().add_root(layout)\n"
      ],
      "metadata": {
        "id": "ZmmqdTTAF3Ec"
      },
      "execution_count": 9,
      "outputs": []
    },
    {
      "cell_type": "markdown",
      "source": [
        "Q5. How can you embed a Bokeh plot into a web page or dashboard using Flask or Django?"
      ],
      "metadata": {
        "id": "tnThajAMHwJJ"
      }
    },
    {
      "cell_type": "markdown",
      "source": [
        "Bokeh plots can be integrated into web applications built with Flask or Django. This is achieved by generating Bokeh components (HTML and JavaScript) and embedding them in the templates.\n",
        "\n",
        "Method Overview\n",
        "Create the Bokeh Plot: Generate a plot using Bokeh's figure and glyph methods.\n",
        "\n",
        "Embed the Plot: Use components() from bokeh.embed to get the HTML and JavaScript.\n",
        "\n",
        "Render the Plot in a Template: Pass the generated components to an HTML template using the web framework.\n",
        "\n",
        "\n"
      ],
      "metadata": {
        "id": "ss_rPRY1Hv1T"
      }
    },
    {
      "cell_type": "code",
      "source": [
        "# Install Dependencies\n",
        "# ! pip install flask bokeh\n",
        "\n",
        "\n",
        "# flask application code\n",
        "from flask import Flask, render_template\n",
        "from bokeh.plotting import figure\n",
        "from bokeh.embed import components\n",
        "from bokeh.resources import CDN\n",
        "\n",
        "app = Flask(__name__)\n",
        "\n",
        "@app.route(\"/\")\n",
        "def index():\n",
        "    # Step 1: Create a Bokeh plot\n",
        "    x = [1, 2, 3, 4, 5]\n",
        "    y = [6, 7, 2, 4, 5]\n",
        "    plot = figure(title=\"Bokeh in Flask\", x_axis_label=\"X-Axis\", y_axis_label=\"Y-Axis\")\n",
        "    plot.line(x, y, line_width=2, color=\"blue\")\n",
        "    plot.circle(x, y, size=10, color=\"red\")\n",
        "\n",
        "    # Step 2: Get components\n",
        "    script, div = components(plot)\n",
        "\n",
        "    # Step 3: Render template\n",
        "    return render_template(\"index.html\", script=script, div=div)\n",
        "\n",
        "if __name__ == \"__main__\":\n",
        "    app.run(debug=True)\n",
        "\n",
        "\n",
        "\n",
        "# html code\n",
        "\"\"\"<!DOCTYPE html>\n",
        "<html lang=\"en\">\n",
        "<head>\n",
        "    <meta charset=\"UTF-8\">\n",
        "    <title>Bokeh in Flask</title>\n",
        "    {{ script|safe }}\n",
        "</head>\n",
        "<body>\n",
        "    <h1>Bokeh Plot in Flask</h1>\n",
        "    {{ div|safe }}\n",
        "</body>\n",
        "</html>\n",
        "\"\"\"\n",
        "\n",
        "\n",
        "# Run the flask app\n",
        "# python app.py"
      ],
      "metadata": {
        "id": "GkVpBNcPGALk"
      },
      "execution_count": null,
      "outputs": []
    }
  ]
}