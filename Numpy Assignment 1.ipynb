{
 "cells": [
  {
   "cell_type": "code",
   "execution_count": 5,
   "id": "b739f67d-fa85-468b-8e52-9dc87acd4ca7",
   "metadata": {},
   "outputs": [],
   "source": [
    "# Consider the below code to answer further questions:\n",
    "import numpy as np\n",
    "list_ = ['1','2','3','4','5' ]\n",
    "array_list = np.array(object = list_)"
   ]
  },
  {
   "cell_type": "markdown",
   "id": "a22472b5-8cd3-4a91-9970-dc1e5233b6df",
   "metadata": {},
   "source": [
    "Q1. Is there any difference in the data type of variables list_ and array_list? If there is then write a code\n",
    "to print the data types of both the variables."
   ]
  },
  {
   "cell_type": "code",
   "execution_count": 7,
   "id": "5fdf8ad2-602b-4ae7-a531-7da57c2a1a9d",
   "metadata": {},
   "outputs": [
    {
     "name": "stdout",
     "output_type": "stream",
     "text": [
      "Data type of list_: <class 'list'>\n",
      "Data type of elements in list_: <class 'str'>\n",
      "Data type of array_list: <class 'numpy.ndarray'>\n",
      "Data type of elements in array_list: <U1\n"
     ]
    }
   ],
   "source": [
    "# Print data types\n",
    "print(\"Data type of list_:\", type(list_))\n",
    "print(\"Data type of elements in list_:\", type(list_[0]))\n",
    "\n",
    "print(\"Data type of array_list:\", type(array_list))\n",
    "print(\"Data type of elements in array_list:\", array_list.dtype)"
   ]
  },
  {
   "cell_type": "markdown",
   "id": "743a397a-e833-4b46-88ee-1b2ab513d1d9",
   "metadata": {},
   "source": [
    "Q2. Write a code to print the data type of each and every element of both the variables list_ and\n",
    "arra_list."
   ]
  },
  {
   "cell_type": "code",
   "execution_count": 11,
   "id": "4c9d5906-0228-41fa-aa34-416c2f4f8993",
   "metadata": {},
   "outputs": [
    {
     "name": "stdout",
     "output_type": "stream",
     "text": [
      "Data type of List_: <class 'str'>\n",
      "Data type of List_: <class 'str'>\n",
      "Data type of List_: <class 'str'>\n",
      "Data type of List_: <class 'str'>\n",
      "Data type of List_: <class 'str'>\n",
      "Data type of array_list: <class 'numpy.str_'>\n",
      "Data type of array_list: <class 'numpy.str_'>\n",
      "Data type of array_list: <class 'numpy.str_'>\n",
      "Data type of array_list: <class 'numpy.str_'>\n",
      "Data type of array_list: <class 'numpy.str_'>\n"
     ]
    }
   ],
   "source": [
    "# List\n",
    "for i in list_:\n",
    "    print(\"Data type of List_:\",type(i))\n",
    "\n",
    "for i in array_list:\n",
    "    print(\"Data type of array_list:\",type(i))"
   ]
  },
  {
   "cell_type": "markdown",
   "id": "db98c25d-dab4-4a7b-b314-64952df91f57",
   "metadata": {},
   "source": [
    "Q3. Considering the following changes in the variable, array_list:\n",
    "\n",
    "array_list = np.array(object = list_, dtype = int)\n",
    "\n",
    "Will there be any difference in the data type of the elements present in both the variables, list_ and\n",
    "arra_list? If so then print the data types of each and every element present in both the variables, list_\n",
    "and arra_list.\n"
   ]
  },
  {
   "cell_type": "code",
   "execution_count": 13,
   "id": "133de63f-b3e9-44b1-82df-f1813b1c9f5d",
   "metadata": {},
   "outputs": [],
   "source": [
    "array_list = np.array(object = list_, dtype = int)"
   ]
  },
  {
   "cell_type": "code",
   "execution_count": 15,
   "id": "8545e858-bd5a-43c2-ae37-2c9dd22e7ffb",
   "metadata": {},
   "outputs": [
    {
     "name": "stdout",
     "output_type": "stream",
     "text": [
      "Data type of List_: <class 'str'>\n",
      "Data type of List_: <class 'str'>\n",
      "Data type of List_: <class 'str'>\n",
      "Data type of List_: <class 'str'>\n",
      "Data type of List_: <class 'str'>\n",
      "Data type of array_list: <class 'numpy.int32'>\n",
      "Data type of array_list: <class 'numpy.int32'>\n",
      "Data type of array_list: <class 'numpy.int32'>\n",
      "Data type of array_list: <class 'numpy.int32'>\n",
      "Data type of array_list: <class 'numpy.int32'>\n"
     ]
    }
   ],
   "source": [
    "for i in list_:\n",
    "    print(\"Data type of List_:\",type(i))\n",
    "\n",
    "for i in array_list:\n",
    "    print(\"Data type of array_list:\",type(i))"
   ]
  },
  {
   "cell_type": "code",
   "execution_count": null,
   "id": "f83c18c7-955e-463c-9b10-8eb97ff2ecc1",
   "metadata": {},
   "outputs": [],
   "source": []
  },
  {
   "cell_type": "code",
   "execution_count": 19,
   "id": "34ddba98-28cd-4787-a063-79489afb5f21",
   "metadata": {},
   "outputs": [],
   "source": [
    "\n",
    "# Consider the below code to answer further questions:\n",
    "import numpy as np\n",
    "num_list = [ [ 1 , 2 , 3 ] , [ 4 , 5 , 6 ] ]\n",
    "num_array = np.array(object = num_list)"
   ]
  },
  {
   "cell_type": "markdown",
   "id": "26f9723c-6897-4a45-8df0-f36fe7443f57",
   "metadata": {},
   "source": [
    "Q4. Write a code to find the following characteristics of variable, num_array:\n",
    "(i) shape\n",
    "(ii) size"
   ]
  },
  {
   "cell_type": "code",
   "execution_count": 22,
   "id": "1adb913b-9bae-4abe-b48a-70efad0a4a7d",
   "metadata": {},
   "outputs": [
    {
     "name": "stdout",
     "output_type": "stream",
     "text": [
      "Shape of num_array: (2, 3)\n",
      "Size of num_array: 6\n"
     ]
    }
   ],
   "source": [
    "# (i) Shape of num_array\n",
    "print(\"Shape of num_array:\", num_array.shape)\n",
    "\n",
    "# (ii) Size of num_array\n",
    "print(\"Size of num_array:\", num_array.size)"
   ]
  },
  {
   "cell_type": "markdown",
   "id": "4dc34e05-57b6-4b6a-9661-654f9540264c",
   "metadata": {},
   "source": [
    "Q5. Write a code to create numpy array of 3*3 matrix containing zeros only, using a numpy array\n",
    "creation function.\n",
    "\n",
    "[Hint: The size of the array will be 9 and the shape will be (3,3).]"
   ]
  },
  {
   "cell_type": "code",
   "execution_count": 28,
   "id": "b1385302-9db3-48d7-9da6-8a4131e1e554",
   "metadata": {},
   "outputs": [
    {
     "data": {
      "text/plain": [
       "array([[0., 0., 0.],\n",
       "       [0., 0., 0.],\n",
       "       [0., 0., 0.]])"
      ]
     },
     "execution_count": 28,
     "metadata": {},
     "output_type": "execute_result"
    }
   ],
   "source": [
    "np.zeros([3,3])"
   ]
  },
  {
   "cell_type": "markdown",
   "id": "8685f9bc-021a-475f-b902-96dfe5565218",
   "metadata": {},
   "source": [
    "Q6. Create an identity matrix of shape (5,5) using numpy functions?\n",
    "\n",
    "[Hint: An identity matrix is a matrix containing 1 diagonally and other elements will be 0.]"
   ]
  },
  {
   "cell_type": "code",
   "execution_count": 30,
   "id": "d20b27ec-3ee9-4370-a936-e6841d7fb0ad",
   "metadata": {},
   "outputs": [
    {
     "data": {
      "text/plain": [
       "array([[1., 0., 0., 0., 0.],\n",
       "       [0., 1., 0., 0., 0.],\n",
       "       [0., 0., 1., 0., 0.],\n",
       "       [0., 0., 0., 1., 0.],\n",
       "       [0., 0., 0., 0., 1.]])"
      ]
     },
     "execution_count": 30,
     "metadata": {},
     "output_type": "execute_result"
    }
   ],
   "source": [
    "np.eye(5)"
   ]
  },
  {
   "cell_type": "code",
   "execution_count": null,
   "id": "83223d72-8acd-46fd-9651-879eefa2b375",
   "metadata": {},
   "outputs": [],
   "source": []
  }
 ],
 "metadata": {
  "kernelspec": {
   "display_name": "Python 3 (ipykernel)",
   "language": "python",
   "name": "python3"
  },
  "language_info": {
   "codemirror_mode": {
    "name": "ipython",
    "version": 3
   },
   "file_extension": ".py",
   "mimetype": "text/x-python",
   "name": "python",
   "nbconvert_exporter": "python",
   "pygments_lexer": "ipython3",
   "version": "3.12.4"
  }
 },
 "nbformat": 4,
 "nbformat_minor": 5
}
