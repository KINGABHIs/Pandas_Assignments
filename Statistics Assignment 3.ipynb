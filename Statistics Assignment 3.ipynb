{
 "cells": [
  {
   "cell_type": "markdown",
   "id": "e40cadc8-1acd-4513-9e90-828530482adc",
   "metadata": {},
   "source": [
    "## Q1. What are the three measures of central tendency?\n",
    "\n",
    "The Measures of central tendency are: \n",
    "1. Mean (Average): The sum of all data values divided by the number of values.\n",
    "Example: The average test score of a class.\n",
    "\n",
    "2. Median: The middle value in a sorted dataset.\n",
    "Example: The median house price in a real estate market.\n",
    "\n",
    "3. Mode: The most frequently occurring value in a dataset.\n",
    "Example: The most common shoe size sold in a store.\n"
   ]
  },
  {
   "cell_type": "markdown",
   "id": "916e728a-b6ee-47cc-89b8-22abd66c7d65",
   "metadata": {},
   "source": [
    "## Q2. What is the difference between the mean, median, and mode? How are they used to measure thecentral tendency of a dataset?\n",
    "\n",
    "The difference between mean, median and mode.\n",
    "Difference one by one -\n",
    "\n",
    "1. Mean - The average of all data values.\n",
    "           - Sum of values ÷ Number of values.\n",
    "           - Best for symmetrical datasets without outliers.\n",
    "           - Highly sensitive to extreme values.\n",
    "            - Example: Average salary in a company.\n",
    "\n",
    "3. Median - The middle value in sorted data.\n",
    "            - Middle value (or average of two middle values if data is even).\n",
    "            - Best for skewed datasets or those with outliers.\n",
    "            - Not affected by outliers.\n",
    "            - Example: Median income to understand the typical earnings in a population.\n",
    "\n",
    "   \n",
    "5. Mode - The most frequently occurring value.\n",
    "            - The value that appears most often.\n",
    "            - Best for categorical data or datasets with repeated values.\n",
    "            - Not affected by outliers.\n",
    "            - Example: Most popular car color sold in a showroom.\n"
   ]
  },
  {
   "cell_type": "markdown",
   "id": "4b2c24f8-bc35-4d2d-a7aa-430e4267e45e",
   "metadata": {},
   "source": [
    "## Q3. Measure the three measures of central tendency for the given height data:\n",
    "[178,177,176,177,178.2,178,175,179,180,175,178.9,176.2,177,172.5,178,176.5]"
   ]
  },
  {
   "cell_type": "code",
   "execution_count": 35,
   "id": "a9665f78-cde9-4888-a078-0b932e1de144",
   "metadata": {},
   "outputs": [
    {
     "name": "stdout",
     "output_type": "stream",
     "text": [
      "Mean is :0    177.01875\n",
      "dtype: float64, Median is :0    177.0\n",
      "dtype: float64, and Mode is :       0\n",
      "0  177.0\n",
      "1  178.0\n"
     ]
    }
   ],
   "source": [
    "import pandas as pd \n",
    "data = [178,177,176,177,178.2,178,175,179,180,175,178.9,176.2,177,172.5,178,176.5]\n",
    "df = pd.DataFrame(data)\n",
    "Mean = df.mean()\n",
    "Median = df.median()\n",
    "Mode = df.mode()\n",
    "\n",
    "print(f\"Mean is :{Mean}, Median is :{Median}, and Mode is :{Mode}\")"
   ]
  },
  {
   "cell_type": "markdown",
   "id": "1170f019-7d61-491d-97f4-517d8c0fabc5",
   "metadata": {},
   "source": [
    "## Q4. Find the standard deviation for the given data:\n",
    "[178,177,176,177,178.2,178,175,179,180,175,178.9,176.2,177,172.5,178,176.5]"
   ]
  },
  {
   "cell_type": "code",
   "execution_count": 39,
   "id": "d21a86d3-71f9-41d4-8fb7-e58d781f4e8b",
   "metadata": {},
   "outputs": [
    {
     "data": {
      "text/plain": [
       "0    1.847239\n",
       "dtype: float64"
      ]
     },
     "execution_count": 39,
     "metadata": {},
     "output_type": "execute_result"
    }
   ],
   "source": [
    "Std = df.std()\n",
    "Std"
   ]
  },
  {
   "cell_type": "markdown",
   "id": "3dfd0d92-ac7f-4ed6-81df-2f86ef98e629",
   "metadata": {},
   "source": [
    "## Q5. How are measures of dispersion such as range, variance, and standard deviation used to describe the spread of a dataset? Provide an example.\n",
    "\n",
    "## Ans:-\n",
    "Measures of Dispersion :\n",
    "1. Range : The difference between the maximum and minimum values in a dataset. Provides a quick sense of the overall spread.\n",
    "Example: If test scores range from 50 to 95, the range is 45, showing the extent of variatio\n",
    "\n",
    "2. Variance: The average squared difference between each data point and the mean. Measures how data points deviate from the mean, emphasizing larger deviations.\n",
    "Example: Variance in monthly sales revenue can help assess consistency in business performance.\n",
    "\n",
    "3. Standard Deviation (SD): The square root of the variance. Indicates the typical distance of data points from the mean, in the same units as the data.\n",
    "Example: If the SD of employee salaries is small, it indicates most salaries are close to the average."
   ]
  },
  {
   "cell_type": "markdown",
   "id": "456a3982-f15f-4aef-893f-4cf45278dd35",
   "metadata": {},
   "source": [
    "## Q6. What is a Venn diagram?\n",
    "\n",
    "## Ans:-\n",
    "\n",
    "A Venn diagram is a visual representation of relationships between different sets of data. It uses overlapping circles to illustrate how elements are shared among sets or how they differ. Circles Represent Sets: Each circle corresponds to a set. Overlapping Areas: Indicate common elements between sets (intersections). Non-Overlapping Areas: Represent unique elements in each set. Universal Set: The rectangle enclosing the circles often represents the entire dataset.\n",
    "\n",
    "Example:\n",
    "In a Venn diagram of two sets:\n",
    "Set A = Students who like Math.\n",
    "Set B = Students who like Science.\n",
    "The overlapping region shows students who like both subjects, while non-overlapping areas show those who like only one subject."
   ]
  },
  {
   "cell_type": "markdown",
   "id": "8629837e-95a1-4986-939f-0f4736b5ce87",
   "metadata": {},
   "source": [
    "## Q7. For the two given sets A = (2,3,4,5,6,7) & B = (0,2,6,8,10). Find:\n",
    "(i) A B\n",
    "(ii) A ⋃ B\n",
    "\n",
    "## Ans :-\n",
    "1. A Intersection B = (2,6)\n",
    "2. A union B = (0,2,3,4,5,6,7,8,10)"
   ]
  },
  {
   "cell_type": "markdown",
   "id": "f91c2c5b-9f02-4b33-bdcd-fa6c8d7a01f8",
   "metadata": {},
   "source": [
    "## Q8. What do you understand about skewness in data?\n",
    "\n",
    "## Ans :-\n",
    "Skewness in Data : Skewness refers to the asymmetry in the distribution of data around its mean. It indicates whether data values are concentrated more on one side of the mean, resulting in a \"skewed\" distribution.\n",
    "\n",
    "Types of Skewness:\n",
    "1. Symmetrical Distribution (Zero Skewness):Data is evenly distributed around the mean.\n",
    "Example: A perfect bell curve.\n",
    "\n",
    "2. Positive Skewness (Right-Skewed): The tail on the right side of the distribution is longer.\n",
    "Mean > Median > Mode.\n",
    "Example: Income distribution in a population (few high earners skew the data).\n",
    "\n",
    "3. Negative Skewness (Left-Skewed):The tail on the left side of the distribution is longer.\n",
    "Mean < Median < Mode.\n",
    "Example: Age of retirement (most people retire at an older age, but a few retire early)."
   ]
  },
  {
   "cell_type": "markdown",
   "id": "9cb6645f-b6ac-4f34-94a9-e6186528d28a",
   "metadata": {},
   "source": [
    "## Q9. If a data is right skewed then what will be the position of median with respect to mean?\n",
    "\n",
    "## Ans:-\n",
    "\n",
    "If data is right-skewed (positively skewed): The mean will be greater than the median. This happens because the mean is pulled toward the higher values (the tail on the right side), while the median remains closer to the center of the dataset.\n",
    "Relationship: Mean > Median > Mode\n",
    "\n",
    "Example:\n",
    "Consider a dataset of incomes: Most people earn around $30,000–$50,000 (median), but a few earn millions (pulling the mean higher)."
   ]
  },
  {
   "cell_type": "markdown",
   "id": "22b9e6cd-ffb5-4c88-a992-a5f99da1bc8d",
   "metadata": {},
   "source": [
    "## Q10. Explain the difference between covariance and correlation. How are these measures used in statistical analysis?\n",
    "\n",
    "## Ans :- \n",
    "Difference between covariance and corelation is one by one :\n",
    "1. Covariance - Measures the degree to which two variables change together.\n",
    "\n",
    "              -  Cov(X,Y) = 1/n-1∑(Xi - X̄)(Yi-Ȳ)\n",
    "\n",
    "               - Dependent on the units of the variables (not standardized).\n",
    "               - Indicates the direction (positive or negative) of the relationship but not the strength.\n",
    "               - Can take any value, including negative, zero, or positive.\n",
    "               - Identifies whether variables move in the same or opposite directions.\n",
    "\n",
    "2. Correlation - Measures the strength and direction of the linear relationship between two variables.\n",
    "\n",
    "                - Corr(X,Y) = Cov(X,Y)/ σ x σ y\n",
    "                - Ranges from -1 to 1, making it a unitless measure.\n",
    "                - Indicates both the direction and the strength of the relationship (closer to ±1 indicates stronger correlation).\n",
    "                - Always between -1 and 1.\n",
    "                - Provides a clearer understanding of how strongly two variables are related.\n"
   ]
  },
  {
   "cell_type": "markdown",
   "id": "897164fe-15e3-4508-9029-2fb1d615dbb0",
   "metadata": {},
   "source": [
    "## Q11. What is the formula for calculating the sample mean? Provide an example calculation for a dataset.\n",
    "\n",
    "## Ans :-\n",
    "The sample mean (X̄) is calculated using the following formula:\n",
    "\n",
    "X̄ = ∑Xi/n\n",
    "where , \n",
    "    - Xi =  Each data point in the sample.\n",
    "    - ∑Xi  = The sum of all data points in the sample.\n",
    "    - 𝑛 = The number of data points in the sample.\n",
    "\n",
    "Example: \n",
    "Consider a sample dataset of exam scores:\n",
    "Scores = [80,85,90,88,92]\n",
    "\n",
    "\n",
    "Sum of Data Points:\n",
    "80+85+90+88+92=435\n",
    "\n",
    "Number of Data Points:- 𝑛=5\n",
    "Sample Mean: X̄ = 435/ 5 = 87\n",
    "\n",
    "So, the sample mean score is 87."
   ]
  },
  {
   "cell_type": "markdown",
   "id": "0486f619-9212-43b5-892d-a2790f1231a5",
   "metadata": {},
   "source": [
    "## Q12. For a normal distribution data what is the relationship between its measure of central tendency?\n",
    "\n",
    "## Ans:-\n",
    "\n",
    "For a normal distribution, the relationship between its measures of central tendency (mean, median, and mode) is as follows:\n",
    "\n",
    "Mean = Median = Mode\n",
    "This means that in a perfectly symmetrical normal distribution, the three measures of central tendency are equal and occur at the same point in the distribution, which is at the center.\n",
    "\n",
    " A normal distribution is symmetrical around its mean. This symmetry ensures that the values of the mean, median, and mode coincide at the center.\n",
    "Mean: The average value of the dataset, located at the center of the distribution.\n",
    "Median: The middle value when the data is sorted, which also lies at the center in a normal distribution.\n",
    "Mode: The most frequent value, which also corresponds to the peak of the bell-shaped curve in a normal distribution."
   ]
  },
  {
   "cell_type": "markdown",
   "id": "f306b9c6-d028-4ab5-a980-375307c72bea",
   "metadata": {},
   "source": [
    "## Q13. How is covariance different from correlation?\n",
    "\n",
    "## Ans:-\n",
    "Covariance - \n",
    "1. Measures the degree to which two variables change together.\n",
    "2. Dependent on the units of the variables (not standardized).\n",
    "3. Indicates whether the variables move in the same direction (positive covariance) or opposite directions (negative covariance).\t\n",
    "4. Can take any value, positive or negative, depending on the scale of the variables.\n",
    "5. Helps identify the direction of the relationship but does not provide the strength or standardized scale.\n",
    "\n",
    "Correlation -\n",
    "1. Measures the strength and direction of the linear relationship between two variables.\n",
    "2. Unitless and always between -1 and 1.\n",
    "3. Indicates the strength and direction of the relationship: values closer to +1 or -1 mean stronger relationships.\n",
    "4. Ranges from -1 to 1.\n",
    "5. Provides both the strength and direction of the linear relationship between variables.\n"
   ]
  },
  {
   "cell_type": "markdown",
   "id": "9fc95f8e-71df-4434-b3bf-3cbcd81a3450",
   "metadata": {},
   "source": [
    "## Q14. How do outliers affect measures of central tendency and dispersion? Provide an example."
   ]
  },
  {
   "cell_type": "markdown",
   "id": "0d4dec4c-8424-4ecd-b761-636e3fdb9b00",
   "metadata": {},
   "source": [
    "1. Measures of Central Tendency:\n",
    "Mean: Outliers have a significant effect on the mean, as it is sensitive to extreme values. A large or small outlier can pull the mean toward itself, distorting the true center of the data.\n",
    "\n",
    "Example: In a dataset of incomes: [50,000, 55,000, 60,000, 150,000], the mean will be disproportionately high due to the $150,000 outlier.\n",
    "Median: The median (middle value) is less affected by outliers because it depends on the order of data points, not their magnitude. As long as the outlier does not change the middle position, the median remains stable.\n",
    "\n",
    "Example: In the same income dataset [50,000, 55,000, 60,000, 150,000], the median is still 57,500, unaffected by the outlier.\n",
    "Mode: The mode, or the most frequent value, is generally not affected by outliers unless the outlier itself becomes the most frequent value.\n",
    "\n",
    "2. Measures of Dispersion:\n",
    "Range: The range is highly affected by outliers because it is calculated as the difference between the maximum and minimum values. A single outlier can greatly expand the range.\n",
    "\n",
    "Example: In the income dataset [50,000, 55,000, 60,000, 150,000], the range is 100,000 (150,000 - 50,000), greatly influenced by the outlier.\n",
    "Variance and Standard Deviation: Both variance and standard deviation are sensitive to outliers since they rely on the squared differences from the mean. Outliers increase the deviations, leading to higher values of variance and standard deviation.\n",
    "\n",
    "Example: In the income dataset, the variance and standard deviation will be much larger because the $150,000 outlier increases the overall spread of the data.\n",
    "Summary:"
   ]
  },
  {
   "cell_type": "code",
   "execution_count": null,
   "id": "26f2681d-72f2-418f-b6ba-cb5feee8835a",
   "metadata": {},
   "outputs": [],
   "source": []
  }
 ],
 "metadata": {
  "kernelspec": {
   "display_name": "Python 3 (ipykernel)",
   "language": "python",
   "name": "python3"
  },
  "language_info": {
   "codemirror_mode": {
    "name": "ipython",
    "version": 3
   },
   "file_extension": ".py",
   "mimetype": "text/x-python",
   "name": "python",
   "nbconvert_exporter": "python",
   "pygments_lexer": "ipython3",
   "version": "3.12.4"
  }
 },
 "nbformat": 4,
 "nbformat_minor": 5
}
