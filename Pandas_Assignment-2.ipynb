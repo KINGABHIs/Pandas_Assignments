{
 "cells": [
  {
   "cell_type": "markdown",
   "id": "3de30e24-5721-42fc-a1da-4d8f529bdcbf",
   "metadata": {},
   "source": [
    "Q1. List any five functions of the pandas library with execution."
   ]
  },
  {
   "cell_type": "raw",
   "id": "26ef81b1-b32e-496f-be28-35c5d66b93bf",
   "metadata": {},
   "source": [
    "1) read_csv()-\n",
    "    Reads a csv file into a DataFrame."
   ]
  },
  {
   "cell_type": "code",
   "execution_count": null,
   "id": "686f9c31-57e9-484c-9658-72c5d629fa82",
   "metadata": {},
   "outputs": [],
   "source": [
    "# example\n",
    "df = pd.read_csv(\"sample.csv\")\n",
    "df"
   ]
  },
  {
   "cell_type": "raw",
   "id": "bd4cc9af-ef93-44d5-8d14-57df52086868",
   "metadata": {},
   "source": [
    "2) head() -\n",
    "    Return the first 5 rows from the DataFrame. We can custamize the number of row by passing the value in function."
   ]
  },
  {
   "cell_type": "code",
   "execution_count": null,
   "id": "bf7ddac2-0a7e-4387-8fc5-2939a0f649ff",
   "metadata": {},
   "outputs": [],
   "source": [
    "# example\n",
    "print(df.head())"
   ]
  },
  {
   "cell_type": "raw",
   "id": "25b6e8aa-3e6c-4a72-b25c-ac5a1a4bb311",
   "metadata": {},
   "source": [
    "3) info() - \n",
    "    Provides a summary of the DataFrame, including column names, non-null counts, and data types."
   ]
  },
  {
   "cell_type": "code",
   "execution_count": null,
   "id": "e9888f28-763f-415d-ace5-e549704777fa",
   "metadata": {},
   "outputs": [],
   "source": [
    "# example Displaying DataFrame Structure\n",
    "print(df.info())"
   ]
  },
  {
   "cell_type": "raw",
   "id": "47dff0ce-ea3d-45d2-b956-7d114e3e3c97",
   "metadata": {},
   "source": [
    "4) describe() - \n",
    "    Generates summary statistics for numerical colunms."
   ]
  },
  {
   "cell_type": "code",
   "execution_count": null,
   "id": "f09450fa-339a-4ea6-a61f-a0c0dafb30ea",
   "metadata": {},
   "outputs": [],
   "source": [
    "# example Displaying statistics\n",
    "print(df.describe())"
   ]
  },
  {
   "cell_type": "raw",
   "id": "1fd4a1e1-f131-4cae-99f1-a788923e471d",
   "metadata": {},
   "source": [
    "5) drop() - \n",
    "    Removes a specified colunm or row from the DataFrame."
   ]
  },
  {
   "cell_type": "code",
   "execution_count": null,
   "id": "c6d040ed-79a7-4f9f-810c-e1833fb37f62",
   "metadata": {},
   "outputs": [],
   "source": [
    "example  - Dropping a column \n",
    "data_cleaned = data.drop(colunms=['ColumnName'])\n",
    "print(data_cleaned.head())"
   ]
  },
  {
   "cell_type": "code",
   "execution_count": null,
   "id": "b632b2c4-95a7-4132-a2f3-6535ac846a54",
   "metadata": {},
   "outputs": [],
   "source": []
  },
  {
   "cell_type": "markdown",
   "id": "8a6999d0-3a45-4ac1-a39f-96463088bba0",
   "metadata": {},
   "source": [
    "Q2. Given a Pandas DataFrame df with columns 'A', 'B', and 'C', write a Python function to re-index the\n",
    "DataFrame with a new index that starts from 1 and increments by 2 for each row."
   ]
  },
  {
   "cell_type": "code",
   "execution_count": null,
   "id": "8fffecdf-b96e-4992-b206-ddcd43a0607c",
   "metadata": {},
   "outputs": [],
   "source": [
    "def reindex(df):\n",
    "    new_index = range(1, 2 * len(df) + 1, 2)\n",
    "    df.index = new_index\n",
    "    return df\n",
    "    \n",
    "data = {'A': [10, 20, 30], 'B': [40, 50, 60], 'C': [70, 80, 90]}\n",
    "df = pd.DataFrame(data)\n",
    "\n",
    "reindexing = reindex(df)\n",
    "print(reindexing)"
   ]
  },
  {
   "cell_type": "markdown",
   "id": "585a43c9-66d1-4306-8eac-b4341cc84256",
   "metadata": {},
   "source": [
    "Q3. You have a Pandas DataFrame df with a colunm named 'Values'. Write a Python Fuction that iterates over \n",
    "the DataFrame and calculates the sum of the first three values in the \"Values\" column. The fuction should \n",
    "print the sum to the console."
   ]
  },
  {
   "cell_type": "code",
   "execution_count": 29,
   "id": "4332cec0-1a8a-497a-847c-222cbc7b5235",
   "metadata": {},
   "outputs": [
    {
     "name": "stdout",
     "output_type": "stream",
     "text": [
      "The sum of first three values is 60\n"
     ]
    },
    {
     "data": {
      "text/html": [
       "<div>\n",
       "<style scoped>\n",
       "    .dataframe tbody tr th:only-of-type {\n",
       "        vertical-align: middle;\n",
       "    }\n",
       "\n",
       "    .dataframe tbody tr th {\n",
       "        vertical-align: top;\n",
       "    }\n",
       "\n",
       "    .dataframe thead th {\n",
       "        text-align: right;\n",
       "    }\n",
       "</style>\n",
       "<table border=\"1\" class=\"dataframe\">\n",
       "  <thead>\n",
       "    <tr style=\"text-align: right;\">\n",
       "      <th></th>\n",
       "      <th>Values</th>\n",
       "      <th>code</th>\n",
       "    </tr>\n",
       "  </thead>\n",
       "  <tbody>\n",
       "    <tr>\n",
       "      <th>0</th>\n",
       "      <td>10</td>\n",
       "      <td>abc</td>\n",
       "    </tr>\n",
       "    <tr>\n",
       "      <th>1</th>\n",
       "      <td>20</td>\n",
       "      <td>def</td>\n",
       "    </tr>\n",
       "    <tr>\n",
       "      <th>2</th>\n",
       "      <td>30</td>\n",
       "      <td>ghi</td>\n",
       "    </tr>\n",
       "    <tr>\n",
       "      <th>3</th>\n",
       "      <td>40</td>\n",
       "      <td>jkl</td>\n",
       "    </tr>\n",
       "    <tr>\n",
       "      <th>4</th>\n",
       "      <td>50</td>\n",
       "      <td>mno</td>\n",
       "    </tr>\n",
       "  </tbody>\n",
       "</table>\n",
       "</div>"
      ],
      "text/plain": [
       "   Values code\n",
       "0      10  abc\n",
       "1      20  def\n",
       "2      30  ghi\n",
       "3      40  jkl\n",
       "4      50  mno"
      ]
     },
     "execution_count": 29,
     "metadata": {},
     "output_type": "execute_result"
    }
   ],
   "source": [
    "import pandas as pd\n",
    "data = {'Values':[10,20,30,40,50],\n",
    "       'code':['abc','def','ghi','jkl','mno']}\n",
    "df = pd.DataFrame(data)\n",
    "\n",
    "def first_three_values(df):\n",
    "    if 'Values' in df.columns and len(df['Values'])>=3:\n",
    "        total = df['Values'].iloc[:3].sum()\n",
    "        print(f\"The sum of first three values is {total}\")\n",
    "    else:\n",
    "        print(\"The 'Values' Column does not exist or less values.\")\n",
    "\n",
    "sum_of_three = first_three_values(df)\n",
    "sum_of_three"
   ]
  },
  {
   "cell_type": "markdown",
   "id": "1fee9c4d-11e7-40eb-a827-646cdee65d51",
   "metadata": {},
   "source": [
    "Q4. Given a Pandas DataFrame df with a column 'Text', write a Python function to create a new column\n",
    "'Word_Count' that contains the number of words in each row of the 'Text' column."
   ]
  },
  {
   "cell_type": "code",
   "execution_count": 35,
   "id": "a83ce0f8-6ae1-48b5-8bc3-4c37e08c9657",
   "metadata": {},
   "outputs": [],
   "source": [
    "data = pd.DataFrame({'Text':[\"Hello My Name is Abhi\",\" I am from Kolhapur\",\"I hold a post graduate Data Science certificate.\",\"Right now I am pursing Masters in computer Application.\"]})"
   ]
  },
  {
   "cell_type": "code",
   "execution_count": 37,
   "id": "252b6297-67e3-490f-ac5e-38ed289cf371",
   "metadata": {},
   "outputs": [
    {
     "data": {
      "text/html": [
       "<div>\n",
       "<style scoped>\n",
       "    .dataframe tbody tr th:only-of-type {\n",
       "        vertical-align: middle;\n",
       "    }\n",
       "\n",
       "    .dataframe tbody tr th {\n",
       "        vertical-align: top;\n",
       "    }\n",
       "\n",
       "    .dataframe thead th {\n",
       "        text-align: right;\n",
       "    }\n",
       "</style>\n",
       "<table border=\"1\" class=\"dataframe\">\n",
       "  <thead>\n",
       "    <tr style=\"text-align: right;\">\n",
       "      <th></th>\n",
       "      <th>Text</th>\n",
       "    </tr>\n",
       "  </thead>\n",
       "  <tbody>\n",
       "    <tr>\n",
       "      <th>0</th>\n",
       "      <td>Hello My Name is Abhi</td>\n",
       "    </tr>\n",
       "    <tr>\n",
       "      <th>1</th>\n",
       "      <td>I am from Kolhapur</td>\n",
       "    </tr>\n",
       "    <tr>\n",
       "      <th>2</th>\n",
       "      <td>I hold a post graduate Data Science certificate.</td>\n",
       "    </tr>\n",
       "    <tr>\n",
       "      <th>3</th>\n",
       "      <td>Right now I am pursing Masters in computer Application.</td>\n",
       "    </tr>\n",
       "  </tbody>\n",
       "</table>\n",
       "</div>"
      ],
      "text/plain": [
       "                                                      Text\n",
       "0                                    Hello My Name is Abhi\n",
       "1                                       I am from Kolhapur\n",
       "2         I hold a post graduate Data Science certificate.\n",
       "3  Right now I am pursing Masters in computer Application."
      ]
     },
     "execution_count": 37,
     "metadata": {},
     "output_type": "execute_result"
    }
   ],
   "source": [
    "data"
   ]
  },
  {
   "cell_type": "code",
   "execution_count": 41,
   "id": "23c93621-39bb-41aa-af85-c391516af650",
   "metadata": {},
   "outputs": [
    {
     "data": {
      "text/html": [
       "<div>\n",
       "<style scoped>\n",
       "    .dataframe tbody tr th:only-of-type {\n",
       "        vertical-align: middle;\n",
       "    }\n",
       "\n",
       "    .dataframe tbody tr th {\n",
       "        vertical-align: top;\n",
       "    }\n",
       "\n",
       "    .dataframe thead th {\n",
       "        text-align: right;\n",
       "    }\n",
       "</style>\n",
       "<table border=\"1\" class=\"dataframe\">\n",
       "  <thead>\n",
       "    <tr style=\"text-align: right;\">\n",
       "      <th></th>\n",
       "      <th>Text</th>\n",
       "      <th>word_count</th>\n",
       "    </tr>\n",
       "  </thead>\n",
       "  <tbody>\n",
       "    <tr>\n",
       "      <th>0</th>\n",
       "      <td>Hello My Name is Abhi</td>\n",
       "      <td>5</td>\n",
       "    </tr>\n",
       "    <tr>\n",
       "      <th>1</th>\n",
       "      <td>I am from Kolhapur</td>\n",
       "      <td>4</td>\n",
       "    </tr>\n",
       "    <tr>\n",
       "      <th>2</th>\n",
       "      <td>I hold a post graduate Data Science certificate.</td>\n",
       "      <td>8</td>\n",
       "    </tr>\n",
       "    <tr>\n",
       "      <th>3</th>\n",
       "      <td>Right now I am pursing Masters in computer Application.</td>\n",
       "      <td>9</td>\n",
       "    </tr>\n",
       "  </tbody>\n",
       "</table>\n",
       "</div>"
      ],
      "text/plain": [
       "                                                      Text  word_count\n",
       "0                                    Hello My Name is Abhi           5\n",
       "1                                       I am from Kolhapur           4\n",
       "2         I hold a post graduate Data Science certificate.           8\n",
       "3  Right now I am pursing Masters in computer Application.           9"
      ]
     },
     "execution_count": 41,
     "metadata": {},
     "output_type": "execute_result"
    }
   ],
   "source": [
    "data['word_count'] = data['Text'].apply(lambda x: len(x.split()))\n",
    "data"
   ]
  },
  {
   "cell_type": "markdown",
   "id": "d675b345-e90b-4581-bc98-2e0969f638ac",
   "metadata": {},
   "source": [
    "Q5. How are DataFrame.size() and DataFrame.shape() different?"
   ]
  },
  {
   "cell_type": "markdown",
   "id": "4144d017-8b0b-4211-91c0-c4fda0c43a3a",
   "metadata": {},
   "source": [
    "The methods DataFrame.size() and DataFrame.shape() in Pandas provide information about a\n",
    "DataFrame's dimensions and total elements, but they are used differently.\n",
    "\n",
    "DataFrame.size = Returns the total number of elements (entries) in the DataFrame and It is\n",
    "the product of the number of rows and columns. It is used to check total number of elements.\n",
    "    size = number of rows * number of columns\n",
    "\n",
    "DataFrame.shape = Returns a tuple representing the dimensions of the DataFrame means the number of rows\n",
    "and number of columns. It is used to check how many rows and columns exist."
   ]
  },
  {
   "cell_type": "code",
   "execution_count": 49,
   "id": "4a33e564-0b76-4571-899f-401bc3a8758f",
   "metadata": {},
   "outputs": [
    {
     "name": "stdout",
     "output_type": "stream",
     "text": [
      "6\n",
      "(3, 2)\n"
     ]
    }
   ],
   "source": [
    "df = pd.DataFrame({'A':[1,3,5],'B':[2,4,6]})\n",
    "print(df.size)\n",
    "print(df.shape)"
   ]
  },
  {
   "cell_type": "code",
   "execution_count": null,
   "id": "bb5e5d2f-7501-4757-adde-f3c9bd920f96",
   "metadata": {},
   "outputs": [],
   "source": [
    "Q6 Which function of pandas do we use to read an excel file?"
   ]
  },
  {
   "cell_type": "markdown",
   "id": "b6b67af3-d1a9-46fb-942f-5bcb20b095dd",
   "metadata": {},
   "source": [
    "To read an Excel file in pandas we use the pd.read_excel() function.This fuction can read the data \n",
    "from an Excel file into a Pandas DataFrame."
   ]
  },
  {
   "cell_type": "markdown",
   "id": "5f773d8f-e625-4e2e-afe7-eab98dbb4203",
   "metadata": {},
   "source": [
    "Q7. You have a Pandas DataFrame df that contains a column named 'Email' that contains email\n",
    "addresses in the format 'username@domain.com'. Write a Python function that creates a new column\n",
    "'Username' in df that contains only the username part of each email address."
   ]
  },
  {
   "cell_type": "code",
   "execution_count": 64,
   "id": "7fb05e7c-119a-44e6-9521-251fdfb55945",
   "metadata": {},
   "outputs": [
    {
     "data": {
      "text/html": [
       "<div>\n",
       "<style scoped>\n",
       "    .dataframe tbody tr th:only-of-type {\n",
       "        vertical-align: middle;\n",
       "    }\n",
       "\n",
       "    .dataframe tbody tr th {\n",
       "        vertical-align: top;\n",
       "    }\n",
       "\n",
       "    .dataframe thead th {\n",
       "        text-align: right;\n",
       "    }\n",
       "</style>\n",
       "<table border=\"1\" class=\"dataframe\">\n",
       "  <thead>\n",
       "    <tr style=\"text-align: right;\">\n",
       "      <th></th>\n",
       "      <th>Email</th>\n",
       "    </tr>\n",
       "  </thead>\n",
       "  <tbody>\n",
       "    <tr>\n",
       "      <th>0</th>\n",
       "      <td>abhi@domain.com</td>\n",
       "    </tr>\n",
       "    <tr>\n",
       "      <th>1</th>\n",
       "      <td>sudh@domain.com</td>\n",
       "    </tr>\n",
       "    <tr>\n",
       "      <th>2</th>\n",
       "      <td>rajsharma@domain.com</td>\n",
       "    </tr>\n",
       "    <tr>\n",
       "      <th>3</th>\n",
       "      <td>rutu@domain.com</td>\n",
       "    </tr>\n",
       "  </tbody>\n",
       "</table>\n",
       "</div>"
      ],
      "text/plain": [
       "                  Email\n",
       "0       abhi@domain.com\n",
       "1       sudh@domain.com\n",
       "2  rajsharma@domain.com\n",
       "3       rutu@domain.com"
      ]
     },
     "execution_count": 64,
     "metadata": {},
     "output_type": "execute_result"
    }
   ],
   "source": [
    "def username(df):\n",
    "    if 'Email' in df.columns:\n",
    "        df['Username'] = df['Email'].apply(lambda x: x.split('@')[0])\n",
    "        print(\"Username column added successfully.\")\n",
    "    else:\n",
    "        print(\"The Email column is does not exist in DataFrame.\")\n",
    "        return df\n",
    "\n",
    "\n",
    "data = pd.DataFrame({'Email':[\"abhi@domain.com\",\"sudh@domain.com\",\"rajsharma@domain.com\",\"rutu@domain.com\"]})\n",
    "data\n",
    "\n"
   ]
  },
  {
   "cell_type": "code",
   "execution_count": 66,
   "id": "c2f26fee-d086-4144-a98c-9a5d23c664a4",
   "metadata": {},
   "outputs": [
    {
     "name": "stdout",
     "output_type": "stream",
     "text": [
      "Username column added successfully.\n"
     ]
    }
   ],
   "source": [
    "df = username(data)"
   ]
  },
  {
   "cell_type": "markdown",
   "id": "2d66702a-5ba0-435d-91e1-16da3ed3eefe",
   "metadata": {},
   "source": [
    "Q8. You have a Pandas DataFrame df with columns 'A', 'B', and 'C'. Write a Python function that selects\n",
    "all rows where the value in column 'A' is greater than 5 and the value in column 'B' is less than 10. The\n",
    "function should return a new DataFrame that contains only the selected rows.\n",
    "For example, if df contains the following values:\n",
    "A B C\n",
    "0 3 5 1\n",
    "1 8 2 7\n",
    "2 6 9 4\n",
    "3 2 3 5\n",
    "4 9 1 2\n",
    "\n",
    "Your function should select the following rows: A B C\n",
    "1 8 2 7\n",
    "4 9 1 2\n",
    "The function should return a new DataFrame that contains only the selected rows"
   ]
  },
  {
   "cell_type": "code",
   "execution_count": 69,
   "id": "523247e8-2258-47ea-916a-46b34babcc2b",
   "metadata": {},
   "outputs": [
    {
     "name": "stdout",
     "output_type": "stream",
     "text": [
      "   A  B  C\n",
      "1  8  2  7\n",
      "2  6  9  4\n",
      "4  9  1  2\n"
     ]
    }
   ],
   "source": [
    "import pandas as pd\n",
    "\n",
    "def filter_dataframe(df):\n",
    "    # Filter rows where 'A' > 5 and 'B' < 10\n",
    "    filtered_df = df[(df['A'] > 5) & (df['B'] < 10)]\n",
    "    return filtered_df\n",
    "\n",
    "# Example DataFrame\n",
    "data = {'A': [3, 8, 6, 2, 9], 'B': [5, 2, 9, 3, 1], 'C': [1, 7, 4, 5, 2]}\n",
    "df = pd.DataFrame(data)\n",
    "\n",
    "# Call the function\n",
    "result = filter_dataframe(df)\n",
    "\n",
    "# Display the result\n",
    "print(result)\n"
   ]
  },
  {
   "cell_type": "markdown",
   "id": "62bb201a-3de6-4ef4-ada6-c3dddf6598ce",
   "metadata": {},
   "source": [
    "Q9. Given a Pandas DataFrame df with a column 'Values', write a Python function to calculate the mean,\n",
    "median, and standard deviation of the values in the 'Values' column."
   ]
  },
  {
   "cell_type": "code",
   "execution_count": 86,
   "id": "feee6eb8-8aac-409d-a7fc-a8d199309fbe",
   "metadata": {},
   "outputs": [
    {
     "name": "stdout",
     "output_type": "stream",
     "text": [
      "The mean:40.0, median:45.0 and Standard deviation:21.552262062252307\n"
     ]
    }
   ],
   "source": [
    "def statistic_summary(df):\n",
    "    \n",
    "    if 'Values' in df.columns:\n",
    "        Mean = df['Values'].mean()\n",
    "        Median = df['Values'].median()\n",
    "        Std = df['Values'].std()\n",
    "\n",
    "        print(f\"The mean:{Mean}, median:{Median} and Standard deviation:{Std}\")\n",
    "    else:\n",
    "        print(\"Column is not exist\")\n",
    "\n",
    "\n",
    "data = {'Values':[10,30, 45,47,68]}\n",
    "df = pd.DataFrame(data)\n",
    "\n",
    "stat = statistic_summary(df)\n",
    "stat"
   ]
  },
  {
   "cell_type": "markdown",
   "id": "eea6f79f-2ae4-404b-9bad-aa45d08228ce",
   "metadata": {},
   "source": [
    "Q10. Given a Pandas DataFrame df with a column 'Sales' and a column 'Date', write a Python function to\n",
    "create a new column 'MovingAverage' that contains the moving average of the sales for the past 7 days\n",
    "for each row in the DataFrame. The moving average should be calculated using a window of size 7 and\n",
    "should include the current day."
   ]
  },
  {
   "cell_type": "code",
   "execution_count": 93,
   "id": "970fd724-b8e6-42da-a99a-35ae3512c111",
   "metadata": {},
   "outputs": [
    {
     "name": "stdout",
     "output_type": "stream",
     "text": [
      "Moving average column added successfully.\n",
      "        Date  Sales  MovingAverage\n",
      "0 2024-11-01    100     100.000000\n",
      "1 2024-11-02    200     150.000000\n",
      "2 2024-11-03    150     150.000000\n",
      "3 2024-11-04    300     187.500000\n",
      "4 2024-11-05    250     200.000000\n",
      "5 2024-11-06    400     233.333333\n",
      "6 2024-11-07    350     250.000000\n",
      "7 2024-11-08    500     307.142857\n"
     ]
    }
   ],
   "source": [
    "import pandas as pd\n",
    "\n",
    "def add_moving_average(df):\n",
    "    if 'Sales' in df.columns and 'Date' in df.columns:\n",
    "        # Ensure the 'Date' column is in datetime format and sort the DataFrame by date\n",
    "        df['Date'] = pd.to_datetime(df['Date'])\n",
    "        df = df.sort_values('Date')\n",
    "        \n",
    "        # Calculate the 7-day moving average\n",
    "        df['MovingAverage'] = df['Sales'].rolling(window=7, min_periods=1).mean()\n",
    "        \n",
    "        print(\"Moving average column added successfully.\")\n",
    "    else:\n",
    "        print(\"The 'Sales' and/or 'Date' column(s) do not exist in the DataFrame.\")\n",
    "    return df\n",
    "\n",
    "# Example Usage\n",
    "data = {\n",
    "    'Date': ['2024-11-01', '2024-11-02', '2024-11-03', '2024-11-04', '2024-11-05', \n",
    "             '2024-11-06', '2024-11-07', '2024-11-08'],\n",
    "    'Sales': [100, 200, 150, 300, 250, 400, 350, 500]\n",
    "}\n",
    "df = pd.DataFrame(data)\n",
    "\n",
    "# Add the moving average column\n",
    "df = add_moving_average(df)\n",
    "\n",
    "# Display the DataFrame\n",
    "print(df)\n"
   ]
  },
  {
   "cell_type": "markdown",
   "id": "afb94aa5-5dae-4f54-9d9d-a61a8cb80f96",
   "metadata": {},
   "source": [
    "Q11. You have a Pandas DataFrame df with a column 'Date'. Write a Python function that creates a new\n",
    "column 'Weekday' in the DataFrame. The 'Weekday' column should contain the weekday name (e.g.\n",
    "Monday, Tuesday) corresponding to each date in the 'Date' column.\n",
    "For example, if df contains the following values:\n",
    "Date\n",
    "0 2023-01-01\n",
    "1 2023-01-02\n",
    "2 2023-01-03\n",
    "3 2023-01-04\n",
    "4 2023-01-05\n",
    "Your function should create the following DataFrame:\n",
    "\n",
    "Date Weekday\n",
    "0 2023-01-01 Sunday\n",
    "1 2023-01-02 Monday\n",
    "2 2023-01-03 Tuesday\n",
    "3 2023-01-04 Wednesday\n",
    "4 2023-01-05 Thursday\n",
    "The function should return the modified DataFrame."
   ]
  },
  {
   "cell_type": "code",
   "execution_count": 96,
   "id": "8e314969-5739-43ca-9682-93da6e8034e4",
   "metadata": {},
   "outputs": [
    {
     "name": "stdout",
     "output_type": "stream",
     "text": [
      "Weekday column added successfully.\n",
      "        Date    Weekday\n",
      "0 2023-01-01     Sunday\n",
      "1 2023-01-02     Monday\n",
      "2 2023-01-03    Tuesday\n",
      "3 2023-01-04  Wednesday\n",
      "4 2023-01-05   Thursday\n"
     ]
    }
   ],
   "source": [
    "import pandas as pd\n",
    "\n",
    "def add_weekday_column(df):\n",
    "    if 'Date' in df.columns:\n",
    "        # Ensure the 'Date' column is in datetime format\n",
    "        df['Date'] = pd.to_datetime(df['Date'])\n",
    "        \n",
    "        # Create the 'Weekday' column\n",
    "        df['Weekday'] = df['Date'].dt.day_name()\n",
    "        \n",
    "        print(\"Weekday column added successfully.\")\n",
    "    else:\n",
    "        print(\"The 'Date' column does not exist in the DataFrame.\")\n",
    "    return df\n",
    "\n",
    "# Example Usage\n",
    "data = {'Date': ['2023-01-01', '2023-01-02', '2023-01-03', '2023-01-04', '2023-01-05']}\n",
    "df = pd.DataFrame(data)\n",
    "\n",
    "# Add 'Weekday' column\n",
    "df = add_weekday_column(df)\n",
    "\n",
    "# Display the DataFrame\n",
    "print(df)\n"
   ]
  },
  {
   "cell_type": "markdown",
   "id": "098b281a-0bcf-47cc-8545-55cb2dc53eda",
   "metadata": {},
   "source": [
    "Q12. Given a Pandas DataFrame df with a column 'Date' that contains timestamps, write a Python\n",
    "function to select all rows where the date is between '2023-01-01' and '2023-01-31'."
   ]
  },
  {
   "cell_type": "code",
   "execution_count": 101,
   "id": "ae797eda-f1db-4039-9d37-762e8d2165e2",
   "metadata": {},
   "outputs": [
    {
     "name": "stdout",
     "output_type": "stream",
     "text": [
      "Rows filtered by date range.\n",
      "        Date  Value\n",
      "0 2023-01-01     10\n",
      "1 2023-01-05     20\n",
      "3 2023-01-20     40\n"
     ]
    }
   ],
   "source": [
    "def filter_by_date_range(df):\n",
    "    if 'Date' in df.columns:\n",
    "        # Ensure the 'Date' column is in datetime format\n",
    "        df['Date'] = pd.to_datetime(df['Date'])\n",
    "        \n",
    "        # Define the start and end dates\n",
    "        start_date = '2023-01-01'\n",
    "        end_date = '2023-01-31'\n",
    "        \n",
    "        # Filter rows where the 'Date' is within the range\n",
    "        filtered_df = df[(df['Date'] >= start_date) & (df['Date'] <= end_date)]\n",
    "        \n",
    "        print(\"Rows filtered by date range.\")\n",
    "    else:\n",
    "        print(\"The 'Date' column does not exist in the DataFrame.\")\n",
    "        filtered_df = df  # Return the original df if 'Date' column is missing\n",
    "    \n",
    "    return filtered_df\n",
    "\n",
    "# Example Usage\n",
    "data = {'Date': ['2023-01-01', '2023-01-05', '2023-02-01', '2023-01-20', '2023-03-01'],\n",
    "        'Value': [10, 20, 30, 40, 50]}\n",
    "df = pd.DataFrame(data)\n",
    "\n",
    "# Call the function to filter rows by date range\n",
    "filtered_df = filter_by_date_range(df)\n",
    "\n",
    "# Display the filtered DataFrame\n",
    "print(filtered_df)\n"
   ]
  },
  {
   "cell_type": "markdown",
   "id": "7a68de83-f3f1-46f7-8ab6-2cf65ab2b419",
   "metadata": {},
   "source": [
    "Q13. To use the basic functions of pandas, what is the first and foremost necessary library that needs tobe imported?\n"
   ]
  },
  {
   "cell_type": "code",
   "execution_count": null,
   "id": "7bb4cd69-7f06-4048-9038-e3882e2d63c0",
   "metadata": {},
   "outputs": [],
   "source": [
    "To use the basic fuctionality of pandas we use the irst and formost library is Pandas itself."
   ]
  },
  {
   "cell_type": "code",
   "execution_count": null,
   "id": "be97e60f-f72e-4a3c-81f6-9f2dfe8bc2ba",
   "metadata": {},
   "outputs": [],
   "source": []
  },
  {
   "cell_type": "code",
   "execution_count": null,
   "id": "d78a9330-a104-42fb-a4dd-f19c334dc5f9",
   "metadata": {},
   "outputs": [],
   "source": []
  },
  {
   "cell_type": "code",
   "execution_count": null,
   "id": "5ea040e9-05f8-4977-9334-f43cb7107d4a",
   "metadata": {},
   "outputs": [],
   "source": []
  }
 ],
 "metadata": {
  "kernelspec": {
   "display_name": "Python 3 (ipykernel)",
   "language": "python",
   "name": "python3"
  },
  "language_info": {
   "codemirror_mode": {
    "name": "ipython",
    "version": 3
   },
   "file_extension": ".py",
   "mimetype": "text/x-python",
   "name": "python",
   "nbconvert_exporter": "python",
   "pygments_lexer": "ipython3",
   "version": "3.12.4"
  }
 },
 "nbformat": 4,
 "nbformat_minor": 5
}
