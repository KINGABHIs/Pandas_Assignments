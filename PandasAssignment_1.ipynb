{
 "cells": [
  {
   "cell_type": "markdown",
   "id": "108b7e53-69c4-46f4-a10d-05175248297e",
   "metadata": {},
   "source": [
    "Q1. Create a Pandas Series that contains the following data: 4, 8, 15, 16, 23, and 42. Then, print the series."
   ]
  },
  {
   "cell_type": "code",
   "execution_count": 1,
   "id": "e5e5cdf4-5419-449d-be67-180316bf5423",
   "metadata": {},
   "outputs": [],
   "source": [
    "import pandas as pd"
   ]
  },
  {
   "cell_type": "code",
   "execution_count": 3,
   "id": "efdf8b27-dfe1-4ceb-b2a7-87a721d44ad9",
   "metadata": {},
   "outputs": [],
   "source": [
    "data = [4,8 ,15,16,23,42]\n",
    "series = pd.Series(data)"
   ]
  },
  {
   "cell_type": "code",
   "execution_count": 5,
   "id": "2a42a61f-fb7e-4999-95bb-653a76e96a9c",
   "metadata": {},
   "outputs": [
    {
     "data": {
      "text/plain": [
       "0     4\n",
       "1     8\n",
       "2    15\n",
       "3    16\n",
       "4    23\n",
       "5    42\n",
       "dtype: int64"
      ]
     },
     "execution_count": 5,
     "metadata": {},
     "output_type": "execute_result"
    }
   ],
   "source": [
    "series"
   ]
  },
  {
   "cell_type": "markdown",
   "id": "af1f520e-a60c-472e-bdef-7afadfc8a38e",
   "metadata": {},
   "source": [
    "Q2. Create a variable of list type containing 10 elements in it, and apply pandas.Series function on the\n",
    "variable print it."
   ]
  },
  {
   "cell_type": "code",
   "execution_count": 11,
   "id": "3c654b80-7b64-4de3-acf0-23028c6d81b8",
   "metadata": {},
   "outputs": [],
   "source": [
    "mylist = [1,2,3,4,5,6,7,8,9,0]"
   ]
  },
  {
   "cell_type": "code",
   "execution_count": 13,
   "id": "d344ff4e-d37a-4e8e-8cae-55cec20d7083",
   "metadata": {},
   "outputs": [
    {
     "data": {
      "text/plain": [
       "0    1\n",
       "1    2\n",
       "2    3\n",
       "3    4\n",
       "4    5\n",
       "5    6\n",
       "6    7\n",
       "7    8\n",
       "8    9\n",
       "9    0\n",
       "dtype: int64"
      ]
     },
     "execution_count": 13,
     "metadata": {},
     "output_type": "execute_result"
    }
   ],
   "source": [
    "series = pd.Series(mylist)\n",
    "series"
   ]
  },
  {
   "cell_type": "raw",
   "id": "f7cdcffe-c1a6-45bb-a0a7-13ef268185e9",
   "metadata": {},
   "source": [
    "Q3. Create a Pandas DataFrame that contains the following data:\n",
    "-------------------------\n",
    "Name      Age    Gender\n",
    "-------------------------\n",
    "Alice     25      female\n",
    "Bob       30       male\n",
    "Claire    27      female\n",
    "--------------------------\n",
    "\r\n",
    "Then, print the DataFrame."
   ]
  },
  {
   "cell_type": "code",
   "execution_count": 20,
   "id": "465c8c66-705c-41d4-bf1a-4122e0170f3f",
   "metadata": {},
   "outputs": [
    {
     "data": {
      "text/html": [
       "<div>\n",
       "<style scoped>\n",
       "    .dataframe tbody tr th:only-of-type {\n",
       "        vertical-align: middle;\n",
       "    }\n",
       "\n",
       "    .dataframe tbody tr th {\n",
       "        vertical-align: top;\n",
       "    }\n",
       "\n",
       "    .dataframe thead th {\n",
       "        text-align: right;\n",
       "    }\n",
       "</style>\n",
       "<table border=\"1\" class=\"dataframe\">\n",
       "  <thead>\n",
       "    <tr style=\"text-align: right;\">\n",
       "      <th></th>\n",
       "      <th>Name</th>\n",
       "      <th>Age</th>\n",
       "      <th>Gender</th>\n",
       "    </tr>\n",
       "  </thead>\n",
       "  <tbody>\n",
       "    <tr>\n",
       "      <th>0</th>\n",
       "      <td>Alice</td>\n",
       "      <td>25</td>\n",
       "      <td>female</td>\n",
       "    </tr>\n",
       "    <tr>\n",
       "      <th>1</th>\n",
       "      <td>Bob</td>\n",
       "      <td>30</td>\n",
       "      <td>male</td>\n",
       "    </tr>\n",
       "    <tr>\n",
       "      <th>2</th>\n",
       "      <td>Claire</td>\n",
       "      <td>27</td>\n",
       "      <td>female</td>\n",
       "    </tr>\n",
       "  </tbody>\n",
       "</table>\n",
       "</div>"
      ],
      "text/plain": [
       "     Name  Age  Gender\n",
       "0   Alice   25  female\n",
       "1     Bob   30    male\n",
       "2  Claire   27  female"
      ]
     },
     "execution_count": 20,
     "metadata": {},
     "output_type": "execute_result"
    }
   ],
   "source": [
    "data = {\"Name\":['Alice','Bob','Claire'],\n",
    "       \"Age\":[25,30,27],\n",
    "       \"Gender\":[\"female\",'male','female']}\n",
    "df = pd.DataFrame(data)\n",
    "df"
   ]
  },
  {
   "cell_type": "markdown",
   "id": "e0e75f2b-380c-4c4d-b15c-da3781012900",
   "metadata": {},
   "source": [
    "Q4. What is ‘DataFrame’ in pandas and how is it different from pandas.series? Explain with an example."
   ]
  },
  {
   "cell_type": "markdown",
   "id": "32babb34-b6fe-477b-bc98-66bda7bfc3df",
   "metadata": {},
   "source": [
    "A DataFrame in pandas is a two-dimensional,tabular data structure which consists of rows and colmns. Whare rows represent\n",
    "records and columns represent attributes. It is highly flexible and can hold data of various types in different colunms.\n",
    "    \n",
    "Pandas Series : A Series in pandas is a one-dimensional array-kike structure that can hold any data type. It can be\n",
    "thought of as single column in a data frame, with an associated index."
   ]
  },
  {
   "cell_type": "code",
   "execution_count": 25,
   "id": "fa00a842-e289-480e-8519-12bf9a1813a8",
   "metadata": {},
   "outputs": [
    {
     "data": {
      "text/html": [
       "<div>\n",
       "<style scoped>\n",
       "    .dataframe tbody tr th:only-of-type {\n",
       "        vertical-align: middle;\n",
       "    }\n",
       "\n",
       "    .dataframe tbody tr th {\n",
       "        vertical-align: top;\n",
       "    }\n",
       "\n",
       "    .dataframe thead th {\n",
       "        text-align: right;\n",
       "    }\n",
       "</style>\n",
       "<table border=\"1\" class=\"dataframe\">\n",
       "  <thead>\n",
       "    <tr style=\"text-align: right;\">\n",
       "      <th></th>\n",
       "      <th>a</th>\n",
       "      <th>b</th>\n",
       "      <th>c</th>\n",
       "    </tr>\n",
       "  </thead>\n",
       "  <tbody>\n",
       "    <tr>\n",
       "      <th>0</th>\n",
       "      <td>1</td>\n",
       "      <td>4</td>\n",
       "      <td>7</td>\n",
       "    </tr>\n",
       "    <tr>\n",
       "      <th>1</th>\n",
       "      <td>2</td>\n",
       "      <td>5</td>\n",
       "      <td>8</td>\n",
       "    </tr>\n",
       "    <tr>\n",
       "      <th>2</th>\n",
       "      <td>3</td>\n",
       "      <td>6</td>\n",
       "      <td>9</td>\n",
       "    </tr>\n",
       "  </tbody>\n",
       "</table>\n",
       "</div>"
      ],
      "text/plain": [
       "   a  b  c\n",
       "0  1  4  7\n",
       "1  2  5  8\n",
       "2  3  6  9"
      ]
     },
     "execution_count": 25,
     "metadata": {},
     "output_type": "execute_result"
    }
   ],
   "source": [
    "# Example of DataFrame\n",
    "import pandas as pd \n",
    "data = {'a':[1,2,3],\n",
    "       'b':[4,5,6],\n",
    "       'c':[7,8,9]}\n",
    "df= pd.DataFrame(data)\n",
    "df"
   ]
  },
  {
   "cell_type": "code",
   "execution_count": 29,
   "id": "4fbc5a32-5f34-4fbc-91a9-b90a7c61de41",
   "metadata": {},
   "outputs": [],
   "source": [
    "# Example of series\n",
    "data = [\"a\",\"b\",\"c\"]\n",
    "series = pd.Series(data)"
   ]
  },
  {
   "cell_type": "code",
   "execution_count": 31,
   "id": "76732de2-4277-463a-80d3-2414c59a21b2",
   "metadata": {},
   "outputs": [
    {
     "data": {
      "text/plain": [
       "0    a\n",
       "1    b\n",
       "2    c\n",
       "dtype: object"
      ]
     },
     "execution_count": 31,
     "metadata": {},
     "output_type": "execute_result"
    }
   ],
   "source": [
    "series"
   ]
  },
  {
   "cell_type": "markdown",
   "id": "5f87884c-dea5-46ed-a178-9310d868494b",
   "metadata": {},
   "source": [
    "Q5. What are some common functions you can use to manipulate data in a Pandas DataFrame? Can\n",
    "you give an example of when you might use one of these functions?"
   ]
  },
  {
   "cell_type": "raw",
   "id": "8183db45-0a18-4755-8fab-98241a3a82b3",
   "metadata": {},
   "source": [
    "At time of data manipulation using Pandas DataFrame we uses the fuctions like head(), tail(), describe(), info(), drop(),\n",
    "dropna(), fillna(), groupby() etc. head() fuction is used for check first 5 records from DataFrame and tail() for last 5 \n",
    "records. describe() is used for get the statistical summary about the data and by using the drop() we remove the columns or \n",
    "rows from the DataFrame"
   ]
  },
  {
   "cell_type": "code",
   "execution_count": 34,
   "id": "60e02ab7-9a76-44bc-8a53-13bbf19ae915",
   "metadata": {},
   "outputs": [
    {
     "name": "stdout",
     "output_type": "stream",
     "text": [
      "Total Sales by Region:\n",
      "Region\n",
      "East     500\n",
      "North    750\n",
      "West     400\n",
      "Name: Sales, dtype: int64\n"
     ]
    }
   ],
   "source": [
    "import pandas as pd\n",
    "\n",
    "\n",
    "data = {\n",
    "    'Region': ['East', 'West', 'East', 'North', 'West', 'North'],\n",
    "    'Sales': [200, 150, 300, 400, 250, 350]\n",
    "}\n",
    "df = pd.DataFrame(data)\n",
    "\n",
    "# Grouping data by 'Region' and summing sales\n",
    "grouped_data = df.groupby('Region')['Sales'].sum()\n",
    "\n",
    "print(\"Total Sales by Region:\")\n",
    "print(grouped_data)"
   ]
  },
  {
   "cell_type": "markdown",
   "id": "233d0f7c-fa4e-427d-b429-bac053328a70",
   "metadata": {},
   "source": [
    "Q6. Which of the following is mutable in nature Series, DataFrame, Panel?"
   ]
  },
  {
   "cell_type": "raw",
   "id": "77aaf454-6204-4b7b-b56e-9618455c8323",
   "metadata": {},
   "source": [
    "In pandas Series, DataFrame and Panel are mutable.\n",
    "1.Series - A one -dimentional labeled array and you can modify its elements, index, and even the data it \n",
    "holds, making it mutable.\n",
    "2. DataFrame = Two dimentional labeled data structure containing rows and columns.\n",
    "3. panel - A three-dimentional data structure, but less in use."
   ]
  },
  {
   "cell_type": "raw",
   "id": "c3194518-9e38-4881-bb9f-6b0a447c306b",
   "metadata": {},
   "source": [
    "Q7. Create a DataFrame using multiple Series. Explain with an example."
   ]
  },
  {
   "cell_type": "code",
   "execution_count": 49,
   "id": "0ed1103d-2b55-449a-95b6-b6090276f183",
   "metadata": {},
   "outputs": [
    {
     "data": {
      "text/html": [
       "<div>\n",
       "<style scoped>\n",
       "    .dataframe tbody tr th:only-of-type {\n",
       "        vertical-align: middle;\n",
       "    }\n",
       "\n",
       "    .dataframe tbody tr th {\n",
       "        vertical-align: top;\n",
       "    }\n",
       "\n",
       "    .dataframe thead th {\n",
       "        text-align: right;\n",
       "    }\n",
       "</style>\n",
       "<table border=\"1\" class=\"dataframe\">\n",
       "  <thead>\n",
       "    <tr style=\"text-align: right;\">\n",
       "      <th></th>\n",
       "      <th>latter</th>\n",
       "      <th>number</th>\n",
       "      <th>symbol</th>\n",
       "    </tr>\n",
       "  </thead>\n",
       "  <tbody>\n",
       "    <tr>\n",
       "      <th>0</th>\n",
       "      <td>a</td>\n",
       "      <td>9</td>\n",
       "      <td>!</td>\n",
       "    </tr>\n",
       "    <tr>\n",
       "      <th>1</th>\n",
       "      <td>b</td>\n",
       "      <td>8</td>\n",
       "      <td>@</td>\n",
       "    </tr>\n",
       "    <tr>\n",
       "      <th>2</th>\n",
       "      <td>c</td>\n",
       "      <td>7</td>\n",
       "      <td>#</td>\n",
       "    </tr>\n",
       "    <tr>\n",
       "      <th>3</th>\n",
       "      <td>d</td>\n",
       "      <td>6</td>\n",
       "      <td>$</td>\n",
       "    </tr>\n",
       "    <tr>\n",
       "      <th>4</th>\n",
       "      <td>e</td>\n",
       "      <td>5</td>\n",
       "      <td>%</td>\n",
       "    </tr>\n",
       "    <tr>\n",
       "      <th>5</th>\n",
       "      <td>f</td>\n",
       "      <td>4</td>\n",
       "      <td>&amp;</td>\n",
       "    </tr>\n",
       "  </tbody>\n",
       "</table>\n",
       "</div>"
      ],
      "text/plain": [
       "  latter  number symbol\n",
       "0      a       9      !\n",
       "1      b       8      @\n",
       "2      c       7      #\n",
       "3      d       6      $\n",
       "4      e       5      %\n",
       "5      f       4      &"
      ]
     },
     "execution_count": 49,
     "metadata": {},
     "output_type": "execute_result"
    }
   ],
   "source": [
    "import pandas as pd\n",
    "\n",
    "latters = pd.Series(['a','b','c','d','e','f'])\n",
    "numbers = pd.Series([9,8,7,6,5,4,])\n",
    "symbols = pd.Series([\"!\",'@','#','$','%','&'])\n",
    "\n",
    "data = pd.DataFrame({\n",
    "    \"latter\":latters,\n",
    "    \"number\":numbers,\n",
    "    \"symbol\":symbols\n",
    "})\n",
    "data"
   ]
  },
  {
   "cell_type": "code",
   "execution_count": null,
   "id": "184746ec-c917-4f01-9e2e-d0df337e25e5",
   "metadata": {},
   "outputs": [],
   "source": []
  }
 ],
 "metadata": {
  "kernelspec": {
   "display_name": "Python 3 (ipykernel)",
   "language": "python",
   "name": "python3"
  },
  "language_info": {
   "codemirror_mode": {
    "name": "ipython",
    "version": 3
   },
   "file_extension": ".py",
   "mimetype": "text/x-python",
   "name": "python",
   "nbconvert_exporter": "python",
   "pygments_lexer": "ipython3",
   "version": "3.12.4"
  }
 },
 "nbformat": 4,
 "nbformat_minor": 5
}
