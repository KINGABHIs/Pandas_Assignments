{
 "cells": [
  {
   "cell_type": "raw",
   "id": "dec66586-a71d-49e9-928d-4aa7e6addc17",
   "metadata": {},
   "source": [
    "Q1. What is Statistics?"
   ]
  },
  {
   "cell_type": "raw",
   "id": "f8037b59-1d66-4fb4-ab6f-effd06c2cf9d",
   "metadata": {},
   "source": [
    "tatistics is the branch of mathematics that involves collecting, organizing, analyzing, interpreting, and presenting data. It helps in making decisions and predictions based on data patterns and trends. It is widely used in various fields like science, business, and social studies for problem-solving and decision-making."
   ]
  },
  {
   "cell_type": "raw",
   "id": "37e88d4d-c93f-49a3-871f-a9790287cbf0",
   "metadata": {},
   "source": [
    "Q2. Define the different types of statistics and give an example of when each type might be used."
   ]
  },
  {
   "cell_type": "raw",
   "id": "4afc8eda-e436-4812-b485-a276dd04c253",
   "metadata": {},
   "source": [
    "Statistics is divided into two main types:\n",
    "\n",
    "1. Descriptive Statistics- \n",
    "    Definition: Summarizes and describes the main features of a dataset through measures such as mean, median, mode, and visualizations like charts or graphs.\n",
    "Example: A company calculates the average sales per month to analyze business performance.\n",
    "\n",
    "2. Inferential Statistics-\n",
    "    Definition: Makes predictions or inferences about a larger population based on a sample from that population. It uses techniques like hypothesis testing and confidence intervals.\n",
    "Example: A pharmaceutical company tests a new drug on a sample of patients to infer its effectiveness for the entire population."
   ]
  },
  {
   "cell_type": "raw",
   "id": "d580ce80-b444-4309-bd82-d9d10368bc2f",
   "metadata": {},
   "source": [
    "Q4. Categorise the following datasets with respect to quantitative and qualitative data types:\n",
    "(i) Grading in exam: A+, A, B+, B, C+, C, D, E\n",
    "(ii) Colour of mangoes: yellow, green, orange, red\n",
    "(iii) Height data of a class: [178.9, 179, 179.5, 176, 177.2, 178.3, 175.8,...]\n",
    "(iv) Number of mangoes exported by a farm: [500, 600, 478, 672, ...]"
   ]
  },
  {
   "cell_type": "raw",
   "id": "61092285-265c-4ac8-aa01-cd2307b559d5",
   "metadata": {},
   "source": [
    "i) Grading in exam: Type = Qualitative (Categorical) -> Ordinal data \n",
    "        Grades represent categories or labels withour nuberical value but show the progress of studens.\n",
    "ii) Colour of mangoes : Type = Qualitative(categorical) -> nominal data \n",
    "        Colors are show the categories of mango.\n",
    "iii) Height data of a class - Type = Quantitative -> Continuous data \n",
    "        Heights are numerical and can take any value within a range.\n",
    "iv) Number of mangoes exported by a farm - Type =  Quantitative -> Discrete\n",
    "        The number of mangoes is countable and represents whole numbers."
   ]
  },
  {
   "cell_type": "code",
   "execution_count": null,
   "id": "24b9dd44-9282-478a-b8be-3104fd05ddd4",
   "metadata": {},
   "outputs": [],
   "source": [
    "Q5. Explain the concept of levels of measurement and give an example of a variable for each level."
   ]
  },
  {
   "cell_type": "raw",
   "id": "bed58aa3-a874-4242-b890-af0dbefcdef0",
   "metadata": {},
   "source": [
    "The levels of measurement classify variables based on the nature of data and the operations possible with them. There are four levels:\n",
    "\n",
    "1. Nominal Level: Categorical data with no inherent order.\n",
    "Example: Gender (Male, Female, Other)\n",
    "\n",
    "2.Ordinal Level: Categorical data with a meaningful order, but intervals between values are not consistent.\n",
    "Example: Education levels (High School, Bachelor’s, Master’s, PhD).\n",
    "\n",
    "3. Interval Level: Numerical data with meaningful intervals but no true zero point.\n",
    "Example: Temperature in Celsius or Fahrenheit.\n",
    "\n",
    "4.Ratio Level: Numerical data with meaningful intervals and a true zero point, allowing all mathematical operations.\n",
    "Example: Weight (in kilograms).\n"
   ]
  },
  {
   "cell_type": "raw",
   "id": "6a0de5df-a9fb-49c6-b784-2f1eb11eb00e",
   "metadata": {},
   "source": [
    "Q6. Why is it important to understand the level of measurement when analyzing data? Provide an\n",
    "example to illustrate your answer."
   ]
  },
  {
   "cell_type": "raw",
   "id": "f931f55a-47bd-48eb-9523-8a7ff3facc71",
   "metadata": {},
   "source": [
    "Understanding the level of measurement is crucial because it determines the type of statistical analysis, visualization, and mathematical operations that can be applied to the data. Misusing levels can lead to incorrect conclusions.\n",
    "\n",
    "Example:\n",
    "1. Nominal Data: If analyzing survey responses about favorite colors (red, blue, green), using a mean would be meaningless since the data lacks numerical properties.\n",
    "2. Ordinal Data: For customer satisfaction ratings (e.g., poor, fair, good, excellent), calculating an average score can be misleading as intervals between ratings are not equal.\n",
    "3. Interval Data: When measuring temperature, the difference between 20°C and 30°C is meaningful, but a ratio (e.g., 30°C is twice as hot as 15°C) is invalid due to the lack of a true zero.\n",
    "4. Ratio Data: For sales data in dollars, all statistical operations (e.g., mean, ratio, etc.) are valid because the data has a true zero."
   ]
  },
  {
   "cell_type": "raw",
   "id": "2a0e5e4d-03ac-430b-9993-e78ed7208b3c",
   "metadata": {},
   "source": [
    "Q7. How nominal data type is different from ordinal data type."
   ]
  },
  {
   "cell_type": "raw",
   "id": "cfb4fcae-55d4-4935-b9d6-3ecf00200d22",
   "metadata": {},
   "source": [
    "Nominal Data - 1. Represents categories without order.\t\n",
    "                2. No inherent ranking or order.\n",
    "                3. Intervals between categories are meaningless.\t\n",
    "                4. Examples :\n",
    "                    Gender (Male, Female), Eye Color (Blue, Brown)\t\n",
    "                5. Only frequency counts or mode can be calculated.\t\n",
    "\n",
    "Ordinal Data - 1. Represents categories with a meaningful order.\n",
    "                2. Has a specific order or ranking.\n",
    "                3. Intervals between categories are not consistent but have some meaning.\n",
    "                4. Exampes:\n",
    "                        Education Level (High School, Bachelor's, Master's)\n",
    "                5. Can calculate median or rank-based measures.\n"
   ]
  },
  {
   "cell_type": "raw",
   "id": "73453db2-ecd0-44b8-ac4d-46f558d43ec1",
   "metadata": {},
   "source": [
    "Q8. Which type of plot can be used to display data in terms of range?\n",
    "\n",
    "ans - A box plot (also known as a box-and-whisker plot) is ideal for displaying data in terms of range.Because of \n",
    "1. Visualizes Range: Shows the minimum, maximum, and the interquartile range (IQR).\n",
    "2. Summarizes Distribution: Displays median, quartiles, and potential outliers.\n",
    "3. Easy Comparison: Useful for comparing ranges across multiple datasets.\n",
    "\n",
    "A box plot can show the range of test scores for different classes, helping to understand variability and central tendency."
   ]
  },
  {
   "cell_type": "raw",
   "id": "898ca940-399f-4fb0-a65c-497e102d408e",
   "metadata": {},
   "source": [
    "Q9. Describe the difference between descriptive and inferential statistics. Give an example of each\n",
    "type of statistics and explain how they are used.\n",
    "\n",
    "Ans - \n",
    "Descriptive Statistics \n",
    "1. Summarizes and describes data.\t\n",
    "2.propose Provides a snapshot of the dataset.\t\n",
    "3. Uses complete data (population or sample).\t\n",
    "4. Mean, median, mode, standard deviation, graphs.\n",
    "5. Example : \n",
    "    A company calculates the average monthly sales revenue for the last year to understand past performance. Summarizes data trends, such as mean sales revenue or revenue distribution\n",
    "\n",
    "Inferential Statistics\n",
    "1. Makes predictions or generalizations about a population based on a sample.\n",
    "2. Draws conclusions and tests hypotheses.\n",
    "3. Uses a sample to infer about the population.\n",
    "4. Hypothesis testing, confidence intervals, regression analysis.\n",
    "5. Example : \n",
    "    A researcher surveys 1,000 voters to predict election outcomes for an entire country.\n",
    "Draws conclusions about the population (voter preferences) using the sample data.\n"
   ]
  },
  {
   "cell_type": "raw",
   "id": "31d409d1-4657-49cc-a559-2f0a4107038f",
   "metadata": {},
   "source": [
    "Q10. What are some common measures of central tendency and variability used in statistics? Explain\n",
    "how each measure can be used to describe a dataset.\n",
    "\n",
    "Ans -Measures of Variability \n",
    "1. Mean (Average): The sum of all values divided by the total number of values. Best for symmetric datasets without outliers (e.g., average income).\n",
    "2. Median: The middle value when data is sorted. Ideal for skewed datasets (e.g., house prices).\n",
    "3. Mode: The most frequently occurring value. Useful for categorical data or to identify common values (e.g., popular product sizes).\n",
    "\n",
    "Measures of Variability\n",
    "1. Range: Difference between the maximum and minimum values. Gives a quick sense of data spread but is sensitive to outliers.\n",
    "2. Variance: The average squared difference from the mean. Indicates how far values deviate from the mean in squared units (e.g., stock price fluctuations).\n",
    "3. Standard Deviation (SD): The square root of variance. Commonly used to measure data spread in the same units as the dataset (e.g., test scores). \n",
    "4. Interquartile Range (IQR): The range of the middle 50% of the data (Q3 - Q1). Effective for summarizing spread without the influence of outliers."
   ]
  },
  {
   "cell_type": "code",
   "execution_count": null,
   "id": "d8714563-8030-45ca-8ffe-a4ad908f96da",
   "metadata": {},
   "outputs": [],
   "source": []
  }
 ],
 "metadata": {
  "kernelspec": {
   "display_name": "Python 3 (ipykernel)",
   "language": "python",
   "name": "python3"
  },
  "language_info": {
   "codemirror_mode": {
    "name": "ipython",
    "version": 3
   },
   "file_extension": ".py",
   "mimetype": "text/x-python",
   "name": "python",
   "nbconvert_exporter": "python",
   "pygments_lexer": "ipython3",
   "version": "3.12.4"
  }
 },
 "nbformat": 4,
 "nbformat_minor": 5
}
