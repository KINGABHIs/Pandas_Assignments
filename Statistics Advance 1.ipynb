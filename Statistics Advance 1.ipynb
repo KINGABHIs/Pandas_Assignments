{
 "cells": [
  {
   "cell_type": "markdown",
   "id": "36fabaad-7a67-4b82-868b-f225a4b70509",
   "metadata": {},
   "source": [
    "## Q1. What is the Probability density function?\n",
    "\n",
    "### Ans :\n",
    "The Probability Density Function (PDF) is a function that describes the likelihood of a continuous random variable taking on a specific value. It is used in probability theory and statistics to represent the distribution of continuous variables.\n",
    "\n",
    "For a continuous random variable X, the PDF, denoted as f(x)\n",
    "        f(x) >= 0 for all x.\n",
    "The total area under the curve of the PDF is equal to 1:\n",
    "        f(x)dx = 1  "
   ]
  },
  {
   "cell_type": "markdown",
   "id": "4743eea2-97cc-4ff8-bacf-fd7a6a295bd7",
   "metadata": {},
   "source": [
    "## Q2. What are the types of Probability distribution?\n",
    "\n",
    "### Ans:\n",
    "Probability distributions are broadly classified into two types: Discrete Probability Distributions and Continuous Probability Distributions.\n",
    "\n",
    "1. Discrete Probability Distributions\n",
    "    These describe the probability of outcomes for discrete random variables, where the values are countable (e.g., integers).\n",
    "\n",
    "    Examples:\n",
    "   \n",
    "        Binomial Distribution: Used when there are a fixed number of independent trials, each with two outcomes (success or failure).\n",
    "   \n",
    "        Poisson Distribution: Models the number of events occurring in a fixed interval of time or space.\n",
    "   \n",
    "        Geometric Distribution: Represents the number of trials needed for the first success.\n",
    "   \n",
    "        Hypergeometric Distribution: Used when sampling is done without replacement\n",
    "\n",
    "\n",
    "2. Continuous Probability Distributions\n",
    "    These describe the probabilities for continuous random variables, which can take any value within a range.\n",
    "\n",
    "    Examples:\n",
    "   \n",
    "        Normal Distribution: A bell-shaped curve, widely used in statistics and natural phenomena.\n",
    "   \n",
    "        Exponential Distribution: Models the time between events in a Poisson process.\n",
    "   \n",
    "        Uniform Distribution: All intervals within a range are equally likely.\n",
    "   \n",
    "        Gamma Distribution: Used for waiting times in processes with multiple events.\n"
   ]
  },
  {
   "cell_type": "markdown",
   "id": "23beebe0-688a-4f3c-8ca3-1fa4bd7ad918",
   "metadata": {},
   "source": [
    "## Q3. Write a Python function to calculate the probability density function of a normal distribution with \n",
    "given mean and standard deviation at a given point\n",
    "\n",
    "### Ans :\n",
    "."
   ]
  },
  {
   "cell_type": "code",
   "execution_count": 6,
   "id": "9fabd234-a176-4ba5-ba5f-6013860988c5",
   "metadata": {},
   "outputs": [
    {
     "name": "stdout",
     "output_type": "stream",
     "text": [
      "The PDF value at x=1.0 is 0.24197072451914337\n"
     ]
    }
   ],
   "source": [
    "import math\n",
    "\n",
    "def normal_pdf(x, mean, std_dev):\n",
    "    \"\"\"\n",
    "    Calculate the Probability Density Function (PDF) of a Normal Distribution.\n",
    "    \n",
    "    Parameters:\n",
    "        x (float): The point at which to evaluate the PDF.\n",
    "        mean (float): The mean (μ) of the distribution.\n",
    "        std_dev (float): The standard deviation (σ) of the distribution.\n",
    "    \n",
    "    Returns:\n",
    "        float: The PDF value at x.\n",
    "    \"\"\"\n",
    "    coefficient = 1 / (std_dev * math.sqrt(2 * math.pi))\n",
    "    exponent = -((x - mean) ** 2) / (2 * std_dev ** 2)\n",
    "    return coefficient * math.exp(exponent)\n",
    "\n",
    "\n",
    "x = 1.0\n",
    "mean = 0.0\n",
    "std_dev = 1.0\n",
    "pdf_value = normal_pdf(x, mean, std_dev)\n",
    "print(f\"The PDF value at x={x} is {pdf_value}\")\n",
    "          "
   ]
  },
  {
   "cell_type": "markdown",
   "id": "7984d043-9d0e-4935-8ce6-c10adbd818f5",
   "metadata": {},
   "source": [
    "## Q4. What are the properties of Binomial distribution? Give two examples of events where binomial \n",
    "distribution can be applied\n",
    "\n",
    "### Ans :\n",
    "Properties of Binomial Distribution\n",
    "The binomial distribution models the number of successes in n independent trials, each with the same probability of success p. Its key properties are:\n",
    "\n",
    "Fixed Number of Trials (n): The experiment consists of a fixed number of trials.\n",
    "\n",
    "Two Outcomes: Each trial has only two possible outcomes — success (with probability p) and failure (with probability 1−p).\n",
    "\n",
    "Independent Trials: The outcome of one trial does not affect the outcome of another.\n",
    "\n",
    "Probability of Success Remains Constant: The success probability p is the same for every trial.\n",
    "\n",
    "Random Variable (X): Represents the number of successes in n trials, where 𝑋∈{0,1,2,....,n}\n",
    "\n",
    "Mean and variance:\n",
    "        Mean: M = n*P\n",
    "        variance : σ^2 = n*P*(1-p)\n",
    "\n",
    "Probability Mass fuction.\n",
    "\n",
    "Example -\n",
    "1. Quality Control in Manufacturing:\n",
    "\n",
    "Scenario: A factory produces a batch of 100 items. Each item has a 5% chance of being defective.\n",
    "Application: The binomial distribution can model the number of defective items in the batch.\n",
    "\n",
    "2. Flipping a Coin:\n",
    "\n",
    "Scenario: You flip a coin 10 times, and each flip has a 50% probability of landing heads.\n",
    "Application: The binomial distribution can model the number of heads obtained in the 10 flips.\n",
    " ."
   ]
  },
  {
   "cell_type": "markdown",
   "id": "5a16c5eb-809b-48fa-93e5-76b2560295e7",
   "metadata": {},
   "source": [
    "## Q5. Generate a random sample of size 1000 from a binomial distribution with probability of success 0.4 \n",
    "and plot a histogram of the results using matplotlib."
   ]
  },
  {
   "cell_type": "code",
   "execution_count": 9,
   "id": "3c15944d-b725-4cae-b901-8199ffd00ca0",
   "metadata": {},
   "outputs": [
    {
     "data": {
      "image/png": "[encoded data removed]",
      "text/plain": [
       "<Figure size 640x480 with 1 Axes>"
      ]
     },
     "metadata": {},
     "output_type": "display_data"
    }
   ],
   "source": [
    "import numpy as np\n",
    "import matplotlib.pyplot as plt\n",
    "\n",
    "n = 10  \n",
    "p = 0.4  \n",
    "size = 1000 \n",
    "\n",
    "\n",
    "sample = np.random.binomial(n, p, size)\n",
    "\n",
    "plt.hist(sample, bins=range(n + 2), edgecolor='black', alpha=0.7)\n",
    "plt.title('Histogram of Binomial Distribution (n=10, p=0.4)')\n",
    "plt.xlabel('Number of Successes')\n",
    "plt.ylabel('Frequency')\n",
    "plt.xticks(range(n + 1))\n",
    "plt.show()\n"
   ]
  },
  {
   "cell_type": "markdown",
   "id": "36d69871-ca2e-466d-a0a7-b4a706f6428d",
   "metadata": {},
   "source": [
    "## Q6. Write a Python function to calculate the cumulative distribution function of a Poisson distribution with given mean at a given point.\n",
    "\n",
    "### Ans :"
   ]
  },
  {
   "cell_type": "code",
   "execution_count": 12,
   "id": "2c3fa280-6e89-46a7-9884-a3b0cbc7fa6f",
   "metadata": {},
   "outputs": [
    {
     "name": "stdout",
     "output_type": "stream",
     "text": [
      "The CDF value of the Poisson distribution with mean=3.0 at k=5 is 0.9160820579686966\n"
     ]
    }
   ],
   "source": [
    "import math\n",
    "\n",
    "def poisson_cdf(mean, k):\n",
    "    \"\"\"\n",
    "    Calculate the Cumulative Distribution Function (CDF) of a Poisson distribution.\n",
    "    \n",
    "    Parameters:\n",
    "        mean (float): The mean (λ) of the Poisson distribution.\n",
    "        k (int): The point up to which the CDF is calculated.\n",
    "    \n",
    "    Returns:\n",
    "        float: The CDF value at k.\n",
    "    \"\"\"\n",
    "    if k < 0:\n",
    "        return 0  # CDF is 0 for k < 0\n",
    "    cdf = 0\n",
    "    for i in range(0, k + 1):\n",
    "        cdf += (math.exp(-mean) * mean**i) / math.factorial(i)\n",
    "    return cdf\n",
    "\n",
    "\n",
    "mean = 3.0\n",
    "k = 5\n",
    "cdf_value = poisson_cdf(mean, k)\n",
    "print(f\"The CDF value of the Poisson distribution with mean={mean} at k={k} is {cdf_value}\")\n"
   ]
  },
  {
   "cell_type": "markdown",
   "id": "8f0c0092-41a8-4636-acec-4125c54e02cb",
   "metadata": {},
   "source": [
    "## Q7. How Binomial distribution different from Poisson distribution?\n",
    "\n",
    "### Ans: \n",
    "\n",
    "The Binomial distribution and Poisson distribution are both discrete probability distributions, but they differ significantly in terms of their applications and underlying assumptions.\n",
    "\n",
    "1. Definition :\n",
    "   \n",
    "Binomial Distribution: Describes the number of successes in a fixed number of independent trials, each with the same probability of success.\n",
    "\n",
    "Poisson Distribution: Models the number of events occurring in a fixed interval of time, space, or other domains, given that the events occur independently and at a constant average rate.\n",
    "\n",
    "2. Parameters\n",
    "\n",
    "Binomial:Number of trials (n): Fixed and finite.\n",
    "Probability of success (p): Remains constant across trials.\n",
    "\n",
    "Poisson:Mean (λ): The average number of events in a given interval.\n",
    "\n",
    "3. Support (Values Random Variable Can Take)\n",
    "\n",
    "Binomial: The random variable X can take values from 0 to n (inclusive).\n",
    "\n",
    "Poisson: The random variable X can take any non-negative integer (0,1,2,…).\n",
    "\n",
    "4. Assumptions\n",
    "\n",
    "Binomial:Trials are independent.\n",
    "Fixed number of trials (n).\n",
    "Constant probability of success (p).\n",
    "\n",
    "Poisson:Events are independent.\n",
    "Average event rate (λ) is constant.\n",
    "Events occur one at a time.\n",
    "\n",
    "5. Example\n",
    "   \n",
    "Binomial Distribution:\n",
    "Tossing a coin n times and counting the number of heads.\n",
    "Quality control, e.g., the number of defective items in a batch.\n",
    "\n",
    "Poisson Distribution:\n",
    "Modeling the number of customer arrivals at a store in an hour.\n",
    "Number of phone calls received in a call center during a given time.\n",
    "\n",
    "6.  Relation Between the Two\n",
    "The Poisson distribution is sometimes used as an approximation for the Binomial distribution when:\n",
    "n (number of trials) is large.\n",
    "p (probability of success) is small.\n",
    "The mean (n⋅p) remains moderate."
   ]
  },
  {
   "cell_type": "markdown",
   "id": "320f571c-6ee4-4f8d-9ad7-0e98dfee260f",
   "metadata": {},
   "source": [
    "## Q8. Generate a random sample of size 1000 from a Poisson distribution with mean 5 and calculate the sample mean and variance.\n",
    "\n",
    "### Ans :\n",
    "\n",
    "The random sample of size 1000 generated from a Poisson distribution with a mean of 5 has the following statistics:\n",
    "\n",
    "Sample Mean: 4.965\n",
    "Sample Variance: 4.946\n",
    "These values are close to the theoretical mean (𝜆=5λ=5) and variance (\n",
    "𝜆\n",
    "=\n",
    "5\n",
    "λ=5), as expected for a Poisson distribution."
   ]
  },
  {
   "cell_type": "markdown",
   "id": "ec4dfbb1-d574-4428-b1a7-50f9f7d63f08",
   "metadata": {},
   "source": [
    "## Q9. How mean and variance are related in Binomial distribution and Poisson distribution?\n",
    "\n",
    "### Ans :\n",
    "Binomial Distribution:\n",
    "\n",
    "Mean (μ): n⋅p\n",
    "\n",
    "Variance (σ^2 ): n⋅p⋅(1−p)\n",
    "\n",
    "Relationship: \n",
    "The variance depends on both the probability of success (p) and the probability of failure (1−p).\n",
    "Variance is always less than or equal to the mean because (1−p)≤1.\n",
    "\n",
    "\n",
    "Poisson Distribution:\n",
    "\n",
    "Mean (μ): λ\n",
    "\n",
    "Variance (σ^2):λ\n",
    "\n",
    "Relationship:\n",
    "In a Poisson distribution, the mean and variance are equal. This property is unique to the Poisson distribution.\n"
   ]
  },
  {
   "cell_type": "markdown",
   "id": "41c0cfc7-04e3-4a43-8f9e-0e8da1c652e3",
   "metadata": {},
   "source": [
    "## Q10. In normal distribution with respect to mean position, where does the least frequent data appear?\n",
    "\n",
    "### Ans:\n",
    "\n",
    "In a normal distribution, the least frequent data appears at the tails of the distribution, which are farthest from the mean (μ).\n",
    "\n",
    "Symmetry of Normal Distribution:\n",
    "\n",
    "The normal distribution is symmetric about the mean (μ).\n",
    "\n",
    "The frequency (or probability density) decreases as you move away from the mean in either direction.\n",
    "\n",
    "Least Frequent Data:\n",
    "\n",
    "The tails (extreme left and right ends of the curve) represent the least frequent or least probable values.\n",
    "\n",
    "These occur at values farthest from the mean, specifically at points where the data lies several standard deviations (σ) away from the mean.\n",
    "\n",
    "Mathematical Context:\n",
    "\n",
    "For a normal distribution, the probability density function (PDF) is: f(x)\n",
    "The exponent term -(x-μ)^2/2σ^2 causes the probability to decrease rapidly as x moves away from μ.\n",
    "\n",
    "Empirical Rule:\n",
    "\n",
    "About 68% of data lies within μ±1σ, 95% within μ±2σ, and 99.7% within μ±3σ.\n",
    "Therefore, the least frequent data appears beyond μ±3σ, in the extreme tails.\n",
    "\n",
    "The least frequent data in a normal distribution appears at the tails, which are the farthest points from the mean (μ) in both directions."
   ]
  },
  {
   "cell_type": "code",
   "execution_count": null,
   "id": "c64ae252-fa7b-44e5-97f2-9f509ca07c6b",
   "metadata": {},
   "outputs": [],
   "source": []
  },
  {
   "cell_type": "code",
   "execution_count": null,
   "id": "b5cc8a72-f6d1-4055-abb9-30e954392a8c",
   "metadata": {},
   "outputs": [],
   "source": []
  },
  {
   "cell_type": "code",
   "execution_count": null,
   "id": "05163ecd-414d-4038-83d5-4292c6cf946d",
   "metadata": {},
   "outputs": [],
   "source": []
  }
 ],
 "metadata": {
  "kernelspec": {
   "display_name": "Python 3 (ipykernel)",
   "language": "python",
   "name": "python3"
  },
  "language_info": {
   "codemirror_mode": {
    "name": "ipython",
    "version": 3
   },
   "file_extension": ".py",
   "mimetype": "text/x-python",
   "name": "python",
   "nbconvert_exporter": "python",
   "pygments_lexer": "ipython3",
   "version": "3.12.4"
  }
 },
 "nbformat": 4,
 "nbformat_minor": 5
}
